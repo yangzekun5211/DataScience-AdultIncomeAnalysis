{
 "cells": [
  {
   "cell_type": "code",
   "execution_count": 1,
   "id": "spare-northern",
   "metadata": {},
   "outputs": [],
   "source": [
    "import pandas as pd\n",
    "import numpy as np\n",
    "import matplotlib.pyplot as plt\n",
    "import seaborn as sns\n",
    "import sklearn \n",
    "from math import log"
   ]
  },
  {
   "cell_type": "code",
   "execution_count": 2,
   "id": "sound-railway",
   "metadata": {},
   "outputs": [],
   "source": [
    "income = pd.read_csv(\"adult_data.csv\")"
   ]
  },
  {
   "cell_type": "code",
   "execution_count": 3,
   "id": "guilty-unknown",
   "metadata": {},
   "outputs": [
    {
     "name": "stdout",
     "output_type": "stream",
     "text": [
      "<class 'pandas.core.frame.DataFrame'>\n",
      "RangeIndex: 32561 entries, 0 to 32560\n",
      "Data columns (total 15 columns):\n",
      " #   Column           Non-Null Count  Dtype \n",
      "---  ------           --------------  ----- \n",
      " 0   age              32561 non-null  int64 \n",
      " 1    workclass       32561 non-null  object\n",
      " 2    fnlwgt          32561 non-null  int64 \n",
      " 3    education       32561 non-null  object\n",
      " 4    education-num   32561 non-null  int64 \n",
      " 5    marital-status  32561 non-null  object\n",
      " 6    occupation      32561 non-null  object\n",
      " 7    relationship    32561 non-null  object\n",
      " 8    race            32561 non-null  object\n",
      " 9    sex             32561 non-null  object\n",
      " 10   capital-gain    32561 non-null  int64 \n",
      " 11   capital-loss    32561 non-null  int64 \n",
      " 12   hours-per-week  32561 non-null  int64 \n",
      " 13   native-country  32561 non-null  object\n",
      " 14   salary          32561 non-null  object\n",
      "dtypes: int64(6), object(9)\n",
      "memory usage: 3.7+ MB\n"
     ]
    }
   ],
   "source": [
    "income.info()\n",
    "\n",
    "# 32561 samples in total\n",
    "# 6 numerical variables, 9 categorical variables  \n",
    "# no null values for all variables"
   ]
  },
  {
   "cell_type": "code",
   "execution_count": 4,
   "id": "rubber-manual",
   "metadata": {},
   "outputs": [
    {
     "data": {
      "text/html": [
       "<div>\n",
       "<style scoped>\n",
       "    .dataframe tbody tr th:only-of-type {\n",
       "        vertical-align: middle;\n",
       "    }\n",
       "\n",
       "    .dataframe tbody tr th {\n",
       "        vertical-align: top;\n",
       "    }\n",
       "\n",
       "    .dataframe thead th {\n",
       "        text-align: right;\n",
       "    }\n",
       "</style>\n",
       "<table border=\"1\" class=\"dataframe\">\n",
       "  <thead>\n",
       "    <tr style=\"text-align: right;\">\n",
       "      <th></th>\n",
       "      <th>age</th>\n",
       "      <th>workclass</th>\n",
       "      <th>fnlwgt</th>\n",
       "      <th>education</th>\n",
       "      <th>education-num</th>\n",
       "      <th>marital-status</th>\n",
       "      <th>occupation</th>\n",
       "      <th>relationship</th>\n",
       "      <th>race</th>\n",
       "      <th>sex</th>\n",
       "      <th>capital-gain</th>\n",
       "      <th>capital-loss</th>\n",
       "      <th>hours-per-week</th>\n",
       "      <th>native-country</th>\n",
       "      <th>salary</th>\n",
       "    </tr>\n",
       "  </thead>\n",
       "  <tbody>\n",
       "    <tr>\n",
       "      <th>0</th>\n",
       "      <td>39</td>\n",
       "      <td>State-gov</td>\n",
       "      <td>77516</td>\n",
       "      <td>Bachelors</td>\n",
       "      <td>13</td>\n",
       "      <td>Never-married</td>\n",
       "      <td>Adm-clerical</td>\n",
       "      <td>Not-in-family</td>\n",
       "      <td>White</td>\n",
       "      <td>Male</td>\n",
       "      <td>2174</td>\n",
       "      <td>0</td>\n",
       "      <td>40</td>\n",
       "      <td>United-States</td>\n",
       "      <td>&lt;=50K</td>\n",
       "    </tr>\n",
       "    <tr>\n",
       "      <th>1</th>\n",
       "      <td>50</td>\n",
       "      <td>Self-emp-not-inc</td>\n",
       "      <td>83311</td>\n",
       "      <td>Bachelors</td>\n",
       "      <td>13</td>\n",
       "      <td>Married-civ-spouse</td>\n",
       "      <td>Exec-managerial</td>\n",
       "      <td>Husband</td>\n",
       "      <td>White</td>\n",
       "      <td>Male</td>\n",
       "      <td>0</td>\n",
       "      <td>0</td>\n",
       "      <td>13</td>\n",
       "      <td>United-States</td>\n",
       "      <td>&lt;=50K</td>\n",
       "    </tr>\n",
       "    <tr>\n",
       "      <th>2</th>\n",
       "      <td>38</td>\n",
       "      <td>Private</td>\n",
       "      <td>215646</td>\n",
       "      <td>HS-grad</td>\n",
       "      <td>9</td>\n",
       "      <td>Divorced</td>\n",
       "      <td>Handlers-cleaners</td>\n",
       "      <td>Not-in-family</td>\n",
       "      <td>White</td>\n",
       "      <td>Male</td>\n",
       "      <td>0</td>\n",
       "      <td>0</td>\n",
       "      <td>40</td>\n",
       "      <td>United-States</td>\n",
       "      <td>&lt;=50K</td>\n",
       "    </tr>\n",
       "    <tr>\n",
       "      <th>3</th>\n",
       "      <td>53</td>\n",
       "      <td>Private</td>\n",
       "      <td>234721</td>\n",
       "      <td>11th</td>\n",
       "      <td>7</td>\n",
       "      <td>Married-civ-spouse</td>\n",
       "      <td>Handlers-cleaners</td>\n",
       "      <td>Husband</td>\n",
       "      <td>Black</td>\n",
       "      <td>Male</td>\n",
       "      <td>0</td>\n",
       "      <td>0</td>\n",
       "      <td>40</td>\n",
       "      <td>United-States</td>\n",
       "      <td>&lt;=50K</td>\n",
       "    </tr>\n",
       "    <tr>\n",
       "      <th>4</th>\n",
       "      <td>28</td>\n",
       "      <td>Private</td>\n",
       "      <td>338409</td>\n",
       "      <td>Bachelors</td>\n",
       "      <td>13</td>\n",
       "      <td>Married-civ-spouse</td>\n",
       "      <td>Prof-specialty</td>\n",
       "      <td>Wife</td>\n",
       "      <td>Black</td>\n",
       "      <td>Female</td>\n",
       "      <td>0</td>\n",
       "      <td>0</td>\n",
       "      <td>40</td>\n",
       "      <td>Cuba</td>\n",
       "      <td>&lt;=50K</td>\n",
       "    </tr>\n",
       "  </tbody>\n",
       "</table>\n",
       "</div>"
      ],
      "text/plain": [
       "   age          workclass   fnlwgt   education   education-num  \\\n",
       "0   39          State-gov    77516   Bachelors              13   \n",
       "1   50   Self-emp-not-inc    83311   Bachelors              13   \n",
       "2   38            Private   215646     HS-grad               9   \n",
       "3   53            Private   234721        11th               7   \n",
       "4   28            Private   338409   Bachelors              13   \n",
       "\n",
       "        marital-status          occupation    relationship    race      sex  \\\n",
       "0        Never-married        Adm-clerical   Not-in-family   White     Male   \n",
       "1   Married-civ-spouse     Exec-managerial         Husband   White     Male   \n",
       "2             Divorced   Handlers-cleaners   Not-in-family   White     Male   \n",
       "3   Married-civ-spouse   Handlers-cleaners         Husband   Black     Male   \n",
       "4   Married-civ-spouse      Prof-specialty            Wife   Black   Female   \n",
       "\n",
       "    capital-gain   capital-loss   hours-per-week  native-country  salary  \n",
       "0           2174              0               40   United-States   <=50K  \n",
       "1              0              0               13   United-States   <=50K  \n",
       "2              0              0               40   United-States   <=50K  \n",
       "3              0              0               40   United-States   <=50K  \n",
       "4              0              0               40            Cuba   <=50K  "
      ]
     },
     "execution_count": 4,
     "metadata": {},
     "output_type": "execute_result"
    }
   ],
   "source": [
    "income.head()\n",
    "# label: salary is a binary variable. So the prediction is a binary classfication problem"
   ]
  },
  {
   "cell_type": "code",
   "execution_count": 5,
   "id": "polished-appreciation",
   "metadata": {},
   "outputs": [
    {
     "data": {
      "text/html": [
       "<div>\n",
       "<style scoped>\n",
       "    .dataframe tbody tr th:only-of-type {\n",
       "        vertical-align: middle;\n",
       "    }\n",
       "\n",
       "    .dataframe tbody tr th {\n",
       "        vertical-align: top;\n",
       "    }\n",
       "\n",
       "    .dataframe thead th {\n",
       "        text-align: right;\n",
       "    }\n",
       "</style>\n",
       "<table border=\"1\" class=\"dataframe\">\n",
       "  <thead>\n",
       "    <tr style=\"text-align: right;\">\n",
       "      <th></th>\n",
       "      <th>count</th>\n",
       "      <th>mean</th>\n",
       "      <th>std</th>\n",
       "      <th>min</th>\n",
       "      <th>25%</th>\n",
       "      <th>50%</th>\n",
       "      <th>75%</th>\n",
       "      <th>max</th>\n",
       "    </tr>\n",
       "  </thead>\n",
       "  <tbody>\n",
       "    <tr>\n",
       "      <th>age</th>\n",
       "      <td>32561.0</td>\n",
       "      <td>38.581647</td>\n",
       "      <td>13.640433</td>\n",
       "      <td>17.0</td>\n",
       "      <td>28.0</td>\n",
       "      <td>37.0</td>\n",
       "      <td>48.0</td>\n",
       "      <td>90.0</td>\n",
       "    </tr>\n",
       "    <tr>\n",
       "      <th>fnlwgt</th>\n",
       "      <td>32561.0</td>\n",
       "      <td>189778.366512</td>\n",
       "      <td>105549.977697</td>\n",
       "      <td>12285.0</td>\n",
       "      <td>117827.0</td>\n",
       "      <td>178356.0</td>\n",
       "      <td>237051.0</td>\n",
       "      <td>1484705.0</td>\n",
       "    </tr>\n",
       "    <tr>\n",
       "      <th>education-num</th>\n",
       "      <td>32561.0</td>\n",
       "      <td>10.080679</td>\n",
       "      <td>2.572720</td>\n",
       "      <td>1.0</td>\n",
       "      <td>9.0</td>\n",
       "      <td>10.0</td>\n",
       "      <td>12.0</td>\n",
       "      <td>16.0</td>\n",
       "    </tr>\n",
       "    <tr>\n",
       "      <th>capital-gain</th>\n",
       "      <td>32561.0</td>\n",
       "      <td>1077.648844</td>\n",
       "      <td>7385.292085</td>\n",
       "      <td>0.0</td>\n",
       "      <td>0.0</td>\n",
       "      <td>0.0</td>\n",
       "      <td>0.0</td>\n",
       "      <td>99999.0</td>\n",
       "    </tr>\n",
       "    <tr>\n",
       "      <th>capital-loss</th>\n",
       "      <td>32561.0</td>\n",
       "      <td>87.303830</td>\n",
       "      <td>402.960219</td>\n",
       "      <td>0.0</td>\n",
       "      <td>0.0</td>\n",
       "      <td>0.0</td>\n",
       "      <td>0.0</td>\n",
       "      <td>4356.0</td>\n",
       "    </tr>\n",
       "    <tr>\n",
       "      <th>hours-per-week</th>\n",
       "      <td>32561.0</td>\n",
       "      <td>40.437456</td>\n",
       "      <td>12.347429</td>\n",
       "      <td>1.0</td>\n",
       "      <td>40.0</td>\n",
       "      <td>40.0</td>\n",
       "      <td>45.0</td>\n",
       "      <td>99.0</td>\n",
       "    </tr>\n",
       "  </tbody>\n",
       "</table>\n",
       "</div>"
      ],
      "text/plain": [
       "                   count           mean            std      min       25%  \\\n",
       "age              32561.0      38.581647      13.640433     17.0      28.0   \n",
       " fnlwgt          32561.0  189778.366512  105549.977697  12285.0  117827.0   \n",
       " education-num   32561.0      10.080679       2.572720      1.0       9.0   \n",
       " capital-gain    32561.0    1077.648844    7385.292085      0.0       0.0   \n",
       " capital-loss    32561.0      87.303830     402.960219      0.0       0.0   \n",
       " hours-per-week  32561.0      40.437456      12.347429      1.0      40.0   \n",
       "\n",
       "                      50%       75%        max  \n",
       "age                  37.0      48.0       90.0  \n",
       " fnlwgt          178356.0  237051.0  1484705.0  \n",
       " education-num       10.0      12.0       16.0  \n",
       " capital-gain         0.0       0.0    99999.0  \n",
       " capital-loss         0.0       0.0     4356.0  \n",
       " hours-per-week      40.0      45.0       99.0  "
      ]
     },
     "execution_count": 5,
     "metadata": {},
     "output_type": "execute_result"
    }
   ],
   "source": [
    "income.describe().T"
   ]
  },
  {
   "cell_type": "code",
   "execution_count": 6,
   "id": "banner-probe",
   "metadata": {},
   "outputs": [
    {
     "data": {
      "text/html": [
       "<div>\n",
       "<style scoped>\n",
       "    .dataframe tbody tr th:only-of-type {\n",
       "        vertical-align: middle;\n",
       "    }\n",
       "\n",
       "    .dataframe tbody tr th {\n",
       "        vertical-align: top;\n",
       "    }\n",
       "\n",
       "    .dataframe thead th {\n",
       "        text-align: right;\n",
       "    }\n",
       "</style>\n",
       "<table border=\"1\" class=\"dataframe\">\n",
       "  <thead>\n",
       "    <tr style=\"text-align: right;\">\n",
       "      <th></th>\n",
       "      <th>count</th>\n",
       "      <th>unique</th>\n",
       "      <th>top</th>\n",
       "      <th>freq</th>\n",
       "    </tr>\n",
       "  </thead>\n",
       "  <tbody>\n",
       "    <tr>\n",
       "      <th>workclass</th>\n",
       "      <td>32561</td>\n",
       "      <td>9</td>\n",
       "      <td>Private</td>\n",
       "      <td>22696</td>\n",
       "    </tr>\n",
       "    <tr>\n",
       "      <th>education</th>\n",
       "      <td>32561</td>\n",
       "      <td>16</td>\n",
       "      <td>HS-grad</td>\n",
       "      <td>10501</td>\n",
       "    </tr>\n",
       "    <tr>\n",
       "      <th>marital-status</th>\n",
       "      <td>32561</td>\n",
       "      <td>7</td>\n",
       "      <td>Married-civ-spouse</td>\n",
       "      <td>14976</td>\n",
       "    </tr>\n",
       "    <tr>\n",
       "      <th>occupation</th>\n",
       "      <td>32561</td>\n",
       "      <td>15</td>\n",
       "      <td>Prof-specialty</td>\n",
       "      <td>4140</td>\n",
       "    </tr>\n",
       "    <tr>\n",
       "      <th>relationship</th>\n",
       "      <td>32561</td>\n",
       "      <td>6</td>\n",
       "      <td>Husband</td>\n",
       "      <td>13193</td>\n",
       "    </tr>\n",
       "    <tr>\n",
       "      <th>race</th>\n",
       "      <td>32561</td>\n",
       "      <td>5</td>\n",
       "      <td>White</td>\n",
       "      <td>27816</td>\n",
       "    </tr>\n",
       "    <tr>\n",
       "      <th>sex</th>\n",
       "      <td>32561</td>\n",
       "      <td>2</td>\n",
       "      <td>Male</td>\n",
       "      <td>21790</td>\n",
       "    </tr>\n",
       "    <tr>\n",
       "      <th>native-country</th>\n",
       "      <td>32561</td>\n",
       "      <td>42</td>\n",
       "      <td>United-States</td>\n",
       "      <td>29170</td>\n",
       "    </tr>\n",
       "    <tr>\n",
       "      <th>salary</th>\n",
       "      <td>32561</td>\n",
       "      <td>2</td>\n",
       "      <td>&lt;=50K</td>\n",
       "      <td>24720</td>\n",
       "    </tr>\n",
       "  </tbody>\n",
       "</table>\n",
       "</div>"
      ],
      "text/plain": [
       "                 count unique                  top   freq\n",
       " workclass       32561      9              Private  22696\n",
       " education       32561     16              HS-grad  10501\n",
       " marital-status  32561      7   Married-civ-spouse  14976\n",
       " occupation      32561     15       Prof-specialty   4140\n",
       " relationship    32561      6              Husband  13193\n",
       " race            32561      5                White  27816\n",
       " sex             32561      2                 Male  21790\n",
       " native-country  32561     42        United-States  29170\n",
       " salary          32561      2                <=50K  24720"
      ]
     },
     "execution_count": 6,
     "metadata": {},
     "output_type": "execute_result"
    }
   ],
   "source": [
    "# statistical summary of categorical data attributes\n",
    "income.describe(include = np.object).T"
   ]
  },
  {
   "cell_type": "markdown",
   "id": "electronic-agriculture",
   "metadata": {},
   "source": [
    "## Exploratory Data Analysis - Univariate"
   ]
  },
  {
   "cell_type": "code",
   "execution_count": 7,
   "id": "filled-garbage",
   "metadata": {},
   "outputs": [],
   "source": [
    "numeric_features = income.describe().columns\n",
    "categorical_features = income.describe(include = np.object).columns.drop([\" salary\"])"
   ]
  },
  {
   "cell_type": "code",
   "execution_count": 8,
   "id": "animated-kennedy",
   "metadata": {},
   "outputs": [
    {
     "data": {
      "text/plain": [
       "Index([' workclass', ' education', ' marital-status', ' occupation',\n",
       "       ' relationship', ' race', ' sex', ' native-country'],\n",
       "      dtype='object')"
      ]
     },
     "execution_count": 8,
     "metadata": {},
     "output_type": "execute_result"
    }
   ],
   "source": [
    "categorical_features"
   ]
  },
  {
   "cell_type": "code",
   "execution_count": 9,
   "id": "facial-monitor",
   "metadata": {},
   "outputs": [
    {
     "data": {
      "image/png": "[encoded data removed]",
      "text/plain": [
       "<Figure size 720x504 with 2 Axes>"
      ]
     },
     "metadata": {
      "needs_background": "light"
     },
     "output_type": "display_data"
    },
    {
     "data": {
      "image/png": "[encoded data removed]",
      "text/plain": [
       "<Figure size 720x504 with 2 Axes>"
      ]
     },
     "metadata": {
      "needs_background": "light"
     },
     "output_type": "display_data"
    },
    {
     "data": {
      "image/png": "[encoded data removed]",
      "text/plain": [
       "<Figure size 720x504 with 2 Axes>"
      ]
     },
     "metadata": {
      "needs_background": "light"
     },
     "output_type": "display_data"
    },
    {
     "data": {
      "image/png": "[encoded data removed]",
      "text/plain": [
       "<Figure size 720x504 with 2 Axes>"
      ]
     },
     "metadata": {
      "needs_background": "light"
     },
     "output_type": "display_data"
    },
    {
     "data": {
      "image/png": "[encoded data removed]",
      "text/plain": [
       "<Figure size 720x504 with 2 Axes>"
      ]
     },
     "metadata": {
      "needs_background": "light"
     },
     "output_type": "display_data"
    },
    {
     "data": {
      "image/png": "[encoded data removed]",
      "text/plain": [
       "<Figure size 720x504 with 2 Axes>"
      ]
     },
     "metadata": {
      "needs_background": "light"
     },
     "output_type": "display_data"
    },
    {
     "data": {
      "image/png": "[encoded data removed]",
      "text/plain": [
       "<Figure size 720x504 with 2 Axes>"
      ]
     },
     "metadata": {
      "needs_background": "light"
     },
     "output_type": "display_data"
    },
    {
     "data": {
      "image/png": "[encoded data removed]",
      "text/plain": [
       "<Figure size 720x504 with 2 Axes>"
      ]
     },
     "metadata": {
      "needs_background": "light"
     },
     "output_type": "display_data"
    }
   ],
   "source": [
    "for feature in categorical_features:\n",
    "    plt.figure(figsize=(10,7))\n",
    "    plt.subplot(2,1,1)\n",
    "    ax=sns.countplot(x=feature, data=income)\n",
    "    ax.set(ylabel=\"Count of Customers\")\n",
    "    #annot(ax)\n",
    "    plt.subplot(2,1,2)\n",
    "    ax=sns.countplot(x=\" salary\", hue=feature, data=income, palette='Set1')\n",
    "    #annot(ax)\n",
    "    plt.show()\n",
    "    #sns.countplot(x=feature, data=income)\n",
    "    "
   ]
  },
  {
   "cell_type": "markdown",
   "id": "usual-twins",
   "metadata": {},
   "source": [
    "Observations:\n",
    "   1. Workplace are approx. equally distributed into different types of work, and has no noticeable effect on salary\n",
    "   2. Education level has noticable effect on the individual salary. Generally, people with higher eduation level are more possible to have salary more than 50k. However, the education levels design is too detailed. A level combination will be preformed later.\n",
    "   3. Marital status also has noticable effect on the salary. For example, never-married people have lower salary. \n",
    "   4. Occupation also is a critcal influence to the salary. However, the num of categories is high (16).\n",
    "   5. Relation has significant effect on salary, while its correlation with marital status will be evaluated later.\n",
    "   6. Races are somewhat balanced in the salary category.\n",
    "   7. Genders somehow effect the salary. Male are more likely to have higher salary.\n",
    "   8. The native-country feature have too many categories and unbalanced distribute overall. It hardly shows any contribution to distingrish the salary, so it's not a good feature.\n",
    "    "
   ]
  },
  {
   "cell_type": "code",
   "execution_count": 10,
   "id": "copyrighted-wyoming",
   "metadata": {},
   "outputs": [
    {
     "data": {
      "text/plain": [
       "array([' Bachelors', ' HS-grad', ' 11th', ' Masters', ' 9th',\n",
       "       ' Some-college', ' Assoc-acdm', ' Assoc-voc', ' 7th-8th',\n",
       "       ' Doctorate', ' Prof-school', ' 5th-6th', ' 10th', ' 1st-4th',\n",
       "       ' Preschool', ' 12th'], dtype=object)"
      ]
     },
     "execution_count": 10,
     "metadata": {},
     "output_type": "execute_result"
    }
   ],
   "source": [
    "income[' education'].unique()"
   ]
  },
  {
   "cell_type": "code",
   "execution_count": 11,
   "id": "legendary-savage",
   "metadata": {},
   "outputs": [
    {
     "name": "stderr",
     "output_type": "stream",
     "text": [
      "C:\\Users\\zyang672\\AppData\\Local\\Continuum\\anaconda2\\envs\\newpython3\\lib\\site-packages\\pandas\\core\\indexing.py:1637: SettingWithCopyWarning: \n",
      "A value is trying to be set on a copy of a slice from a DataFrame\n",
      "\n",
      "See the caveats in the documentation: https://pandas.pydata.org/pandas-docs/stable/user_guide/indexing.html#returning-a-view-versus-a-copy\n",
      "  self._setitem_single_block(indexer, value, name)\n"
     ]
    }
   ],
   "source": [
    "edu_level = [\"\"]*len(income)\n",
    "income[' education level'] = edu_level\n",
    "for i in income.index:\n",
    "    if income[' education'].loc[i] in [' Preschool',' 1st-4th',  ' 5th-6th', ' 7th-8th', ' 9th']:\n",
    "        income[' education level'].loc[i] = 'pre highschool'\n",
    "    elif income[' education'].loc[i] in [' 10th',' 11th', ' 12th', ' HS-grad']:\n",
    "        income[' education level'].loc[i] = 'highschool'\n",
    "    elif income[' education'].loc[i] in [' Bachelors',' Assoc-acdm',  ' Prof-school', ' Assoc-voc', ' Some-college']:\n",
    "        income[' education level'].loc[i] = 'college'\n",
    "    elif income[' education'].loc[i] in [' Masters',' Doctorate']:\n",
    "        income[' education level'].loc[i] = 'graduate'"
   ]
  },
  {
   "cell_type": "code",
   "execution_count": 12,
   "id": "southwest-price",
   "metadata": {},
   "outputs": [
    {
     "data": {
      "image/png": "[encoded data removed]",
      "text/plain": [
       "<Figure size 432x288 with 1 Axes>"
      ]
     },
     "metadata": {
      "needs_background": "light"
     },
     "output_type": "display_data"
    }
   ],
   "source": [
    "plt.figure()\n",
    "ax = sns.countplot(x=\" salary\", hue=\" education level\", data=income, palette='Set1')\n",
    "plt.show()\n",
    "# processed \" education level\" has a significant effect on the salary distribution. We drop ' education' feature\n",
    "income.drop([' education', ' native-country'], axis=1, inplace=True)"
   ]
  },
  {
   "cell_type": "code",
   "execution_count": 13,
   "id": "cordless-maine",
   "metadata": {},
   "outputs": [
    {
     "data": {
      "text/html": [
       "<div>\n",
       "<style scoped>\n",
       "    .dataframe tbody tr th:only-of-type {\n",
       "        vertical-align: middle;\n",
       "    }\n",
       "\n",
       "    .dataframe tbody tr th {\n",
       "        vertical-align: top;\n",
       "    }\n",
       "\n",
       "    .dataframe thead th {\n",
       "        text-align: right;\n",
       "    }\n",
       "</style>\n",
       "<table border=\"1\" class=\"dataframe\">\n",
       "  <thead>\n",
       "    <tr style=\"text-align: right;\">\n",
       "      <th></th>\n",
       "      <th>workclass</th>\n",
       "      <th>marital-status</th>\n",
       "      <th>occupation</th>\n",
       "      <th>relationship</th>\n",
       "      <th>race</th>\n",
       "      <th>sex</th>\n",
       "      <th>salary</th>\n",
       "      <th>education level</th>\n",
       "    </tr>\n",
       "  </thead>\n",
       "  <tbody>\n",
       "    <tr>\n",
       "      <th>0</th>\n",
       "      <td>State-gov</td>\n",
       "      <td>Never-married</td>\n",
       "      <td>Adm-clerical</td>\n",
       "      <td>Not-in-family</td>\n",
       "      <td>White</td>\n",
       "      <td>Male</td>\n",
       "      <td>&lt;=50K</td>\n",
       "      <td>college</td>\n",
       "    </tr>\n",
       "    <tr>\n",
       "      <th>1</th>\n",
       "      <td>Self-emp-not-inc</td>\n",
       "      <td>Married-civ-spouse</td>\n",
       "      <td>Exec-managerial</td>\n",
       "      <td>Husband</td>\n",
       "      <td>White</td>\n",
       "      <td>Male</td>\n",
       "      <td>&lt;=50K</td>\n",
       "      <td>college</td>\n",
       "    </tr>\n",
       "    <tr>\n",
       "      <th>2</th>\n",
       "      <td>Private</td>\n",
       "      <td>Divorced</td>\n",
       "      <td>Handlers-cleaners</td>\n",
       "      <td>Not-in-family</td>\n",
       "      <td>White</td>\n",
       "      <td>Male</td>\n",
       "      <td>&lt;=50K</td>\n",
       "      <td>highschool</td>\n",
       "    </tr>\n",
       "    <tr>\n",
       "      <th>3</th>\n",
       "      <td>Private</td>\n",
       "      <td>Married-civ-spouse</td>\n",
       "      <td>Handlers-cleaners</td>\n",
       "      <td>Husband</td>\n",
       "      <td>Black</td>\n",
       "      <td>Male</td>\n",
       "      <td>&lt;=50K</td>\n",
       "      <td>highschool</td>\n",
       "    </tr>\n",
       "    <tr>\n",
       "      <th>4</th>\n",
       "      <td>Private</td>\n",
       "      <td>Married-civ-spouse</td>\n",
       "      <td>Prof-specialty</td>\n",
       "      <td>Wife</td>\n",
       "      <td>Black</td>\n",
       "      <td>Female</td>\n",
       "      <td>&lt;=50K</td>\n",
       "      <td>college</td>\n",
       "    </tr>\n",
       "    <tr>\n",
       "      <th>...</th>\n",
       "      <td>...</td>\n",
       "      <td>...</td>\n",
       "      <td>...</td>\n",
       "      <td>...</td>\n",
       "      <td>...</td>\n",
       "      <td>...</td>\n",
       "      <td>...</td>\n",
       "      <td>...</td>\n",
       "    </tr>\n",
       "    <tr>\n",
       "      <th>32556</th>\n",
       "      <td>Private</td>\n",
       "      <td>Married-civ-spouse</td>\n",
       "      <td>Tech-support</td>\n",
       "      <td>Wife</td>\n",
       "      <td>White</td>\n",
       "      <td>Female</td>\n",
       "      <td>&lt;=50K</td>\n",
       "      <td>college</td>\n",
       "    </tr>\n",
       "    <tr>\n",
       "      <th>32557</th>\n",
       "      <td>Private</td>\n",
       "      <td>Married-civ-spouse</td>\n",
       "      <td>Machine-op-inspct</td>\n",
       "      <td>Husband</td>\n",
       "      <td>White</td>\n",
       "      <td>Male</td>\n",
       "      <td>&gt;50K</td>\n",
       "      <td>highschool</td>\n",
       "    </tr>\n",
       "    <tr>\n",
       "      <th>32558</th>\n",
       "      <td>Private</td>\n",
       "      <td>Widowed</td>\n",
       "      <td>Adm-clerical</td>\n",
       "      <td>Unmarried</td>\n",
       "      <td>White</td>\n",
       "      <td>Female</td>\n",
       "      <td>&lt;=50K</td>\n",
       "      <td>highschool</td>\n",
       "    </tr>\n",
       "    <tr>\n",
       "      <th>32559</th>\n",
       "      <td>Private</td>\n",
       "      <td>Never-married</td>\n",
       "      <td>Adm-clerical</td>\n",
       "      <td>Own-child</td>\n",
       "      <td>White</td>\n",
       "      <td>Male</td>\n",
       "      <td>&lt;=50K</td>\n",
       "      <td>highschool</td>\n",
       "    </tr>\n",
       "    <tr>\n",
       "      <th>32560</th>\n",
       "      <td>Self-emp-inc</td>\n",
       "      <td>Married-civ-spouse</td>\n",
       "      <td>Exec-managerial</td>\n",
       "      <td>Wife</td>\n",
       "      <td>White</td>\n",
       "      <td>Female</td>\n",
       "      <td>&gt;50K</td>\n",
       "      <td>highschool</td>\n",
       "    </tr>\n",
       "  </tbody>\n",
       "</table>\n",
       "<p>32561 rows × 8 columns</p>\n",
       "</div>"
      ],
      "text/plain": [
       "               workclass       marital-status          occupation  \\\n",
       "0              State-gov        Never-married        Adm-clerical   \n",
       "1       Self-emp-not-inc   Married-civ-spouse     Exec-managerial   \n",
       "2                Private             Divorced   Handlers-cleaners   \n",
       "3                Private   Married-civ-spouse   Handlers-cleaners   \n",
       "4                Private   Married-civ-spouse      Prof-specialty   \n",
       "...                  ...                  ...                 ...   \n",
       "32556            Private   Married-civ-spouse        Tech-support   \n",
       "32557            Private   Married-civ-spouse   Machine-op-inspct   \n",
       "32558            Private              Widowed        Adm-clerical   \n",
       "32559            Private        Never-married        Adm-clerical   \n",
       "32560       Self-emp-inc   Married-civ-spouse     Exec-managerial   \n",
       "\n",
       "         relationship    race      sex  salary  education level  \n",
       "0       Not-in-family   White     Male   <=50K          college  \n",
       "1             Husband   White     Male   <=50K          college  \n",
       "2       Not-in-family   White     Male   <=50K       highschool  \n",
       "3             Husband   Black     Male   <=50K       highschool  \n",
       "4                Wife   Black   Female   <=50K          college  \n",
       "...               ...     ...      ...     ...              ...  \n",
       "32556            Wife   White   Female   <=50K          college  \n",
       "32557         Husband   White     Male    >50K       highschool  \n",
       "32558       Unmarried   White   Female   <=50K       highschool  \n",
       "32559       Own-child   White     Male   <=50K       highschool  \n",
       "32560            Wife   White   Female    >50K       highschool  \n",
       "\n",
       "[32561 rows x 8 columns]"
      ]
     },
     "execution_count": 13,
     "metadata": {},
     "output_type": "execute_result"
    }
   ],
   "source": [
    "income[income.describe(include = np.object).columns]"
   ]
  },
  {
   "cell_type": "code",
   "execution_count": 14,
   "id": "accredited-floor",
   "metadata": {
    "scrolled": true
   },
   "outputs": [
    {
     "data": {
      "text/plain": [
       "array([[<AxesSubplot:title={'center':'age'}>,\n",
       "        <AxesSubplot:title={'center':' fnlwgt'}>],\n",
       "       [<AxesSubplot:title={'center':' education-num'}>,\n",
       "        <AxesSubplot:title={'center':' capital-gain'}>],\n",
       "       [<AxesSubplot:title={'center':' capital-loss'}>,\n",
       "        <AxesSubplot:title={'center':' hours-per-week'}>]], dtype=object)"
      ]
     },
     "execution_count": 14,
     "metadata": {},
     "output_type": "execute_result"
    },
    {
     "data": {
      "image/png": "[encoded data removed]",
      "text/plain": [
       "<Figure size 1440x1080 with 6 Axes>"
      ]
     },
     "metadata": {
      "needs_background": "light"
     },
     "output_type": "display_data"
    }
   ],
   "source": [
    "# numeric features' distribution\n",
    "income.hist(bins=50, figsize=(20,15))"
   ]
  },
  {
   "cell_type": "code",
   "execution_count": 15,
   "id": "sporting-hebrew",
   "metadata": {},
   "outputs": [
    {
     "name": "stdout",
     "output_type": "stream",
     "text": [
      "Skew in age 0.56\n",
      "Skew in  fnlwgt 1.45\n",
      "Skew in  education-num -0.31\n",
      "Skew in  capital-gain 11.95\n",
      "Skew in  capital-loss 4.59\n",
      "Skew in  hours-per-week 0.23\n"
     ]
    }
   ],
   "source": [
    "# numeric feature's skewness\n",
    "for feature in numeric_features:\n",
    "    print(\"Skew in\", feature, round(income[feature].skew(), 2))\n"
   ]
  },
  {
   "cell_type": "code",
   "execution_count": 16,
   "id": "about-learning",
   "metadata": {},
   "outputs": [
    {
     "data": {
      "image/png": "[encoded data removed]",
      "text/plain": [
       "<Figure size 864x504 with 2 Axes>"
      ]
     },
     "metadata": {
      "needs_background": "light"
     },
     "output_type": "display_data"
    },
    {
     "data": {
      "image/png": "[encoded data removed]",
      "text/plain": [
       "<Figure size 864x504 with 2 Axes>"
      ]
     },
     "metadata": {
      "needs_background": "light"
     },
     "output_type": "display_data"
    },
    {
     "data": {
      "image/png": "[encoded data removed]",
      "text/plain": [
       "<Figure size 864x504 with 2 Axes>"
      ]
     },
     "metadata": {
      "needs_background": "light"
     },
     "output_type": "display_data"
    },
    {
     "data": {
      "image/png": "[encoded data removed]",
      "text/plain": [
       "<Figure size 864x504 with 2 Axes>"
      ]
     },
     "metadata": {
      "needs_background": "light"
     },
     "output_type": "display_data"
    },
    {
     "data": {
      "image/png": "[encoded data removed]",
      "text/plain": [
       "<Figure size 864x504 with 2 Axes>"
      ]
     },
     "metadata": {
      "needs_background": "light"
     },
     "output_type": "display_data"
    },
    {
     "data": {
      "image/png": "[encoded data removed]",
      "text/plain": [
       "<Figure size 864x504 with 2 Axes>"
      ]
     },
     "metadata": {
      "needs_background": "light"
     },
     "output_type": "display_data"
    }
   ],
   "source": [
    "for feature in numeric_features:\n",
    "    plt.figure(figsize=(12,7))\n",
    "    plt.subplot(1,2,1)\n",
    "    ax=sns.stripplot(y=feature, x=\" salary\", data=income)\n",
    "    ax.set(ylabel=feature)\n",
    "    #annot(ax)\n",
    "    plt.subplot(1,2,2)\n",
    "    ax=sns.violinplot(x=\" salary\", y=feature, data=income, palette='Set1')\n",
    "    #annot(ax)\n",
    "    plt.show()\n",
    "    #sns.countplot(x=feature, data=income)\n",
    "    "
   ]
  },
  {
   "cell_type": "markdown",
   "id": "gentle-huntington",
   "metadata": {},
   "source": [
    "Observations:\n",
    "   1. Higher age of people are more likely to have the higher salary. Most of people in small age get low salary.\n",
    "   2. The fnlwgt distribution is similar betwen low salary and high salary. Generally, low salary people are slightly more possible to get high fnlwgt value.\n",
    "   3. Higher education-num of people are more likely to have higher salary. But it may overlap with the categorical feature education. \n",
    "   4. Most of the lower salary people have capital-gain close to 0, while the higher salary people have wider capital-gain distribution.\n",
    "   5. Capital-loss has similar situation with capital-gain.\n",
    "   6. People with lower salary and higher salary share similar distribution for houres-per-week, while generally, higher salary has longer work time."
   ]
  },
  {
   "cell_type": "markdown",
   "id": "eligible-shoot",
   "metadata": {},
   "source": [
    "## Exploratory Data Analysis - Bivariate"
   ]
  },
  {
   "cell_type": "code",
   "execution_count": 17,
   "id": "french-washer",
   "metadata": {},
   "outputs": [
    {
     "data": {
      "text/plain": [
       "<AxesSubplot:>"
      ]
     },
     "execution_count": 17,
     "metadata": {},
     "output_type": "execute_result"
    },
    {
     "data": {
      "image/png": "[encoded data removed]",
      "text/plain": [
       "<Figure size 1080x576 with 2 Axes>"
      ]
     },
     "metadata": {
      "needs_background": "light"
     },
     "output_type": "display_data"
    }
   ],
   "source": [
    "plt.figure(figsize=(15,8))\n",
    "sns.heatmap(income.corr(), cbar=True, annot=True)\n",
    "# numeric features are almost independent to each other, and no high correlation bewteen either two features"
   ]
  },
  {
   "cell_type": "code",
   "execution_count": 18,
   "id": "special-timothy",
   "metadata": {},
   "outputs": [
    {
     "data": {
      "image/png": "[encoded data removed]",
      "text/plain": [
       "<Figure size 864x504 with 1 Axes>"
      ]
     },
     "metadata": {
      "needs_background": "light"
     },
     "output_type": "display_data"
    }
   ],
   "source": [
    "# explore the relation between feature \"relationship\" and \"marital-status\"\n",
    "plt.figure(figsize=(12,7))\n",
    "ax=sns.countplot(x=\" marital-status\", hue=' relationship', data=income, palette='Set1')\n",
    "#annot(ax)\n",
    "plt.show()\n",
    "# "
   ]
  },
  {
   "cell_type": "markdown",
   "id": "quarterly-cologne",
   "metadata": {},
   "source": [
    " ## Data Preprocessing & Feature Engineering\n"
   ]
  },
  {
   "cell_type": "markdown",
   "id": "needed-monday",
   "metadata": {},
   "source": [
    "### unbalanced data processing"
   ]
  },
  {
   "cell_type": "code",
   "execution_count": 19,
   "id": "vanilla-polyester",
   "metadata": {},
   "outputs": [
    {
     "name": "stdout",
     "output_type": "stream",
     "text": [
      "total sample number: 32561\n",
      "sample number of =<5k: 24720\n",
      "sample number of >5k: 7841\n",
      "default classifer accuracy 0.759\n"
     ]
    }
   ],
   "source": [
    "# check if lable feature is balanced \n",
    "print(\"total sample number:\", len(income))\n",
    "print(\"sample number of =<5k:\", len(income[income[' salary']==' <=50K']))\n",
    "print(\"sample number of >5k:\", len(income[income[' salary']==' >50K']))\n",
    "print(\"default classifer accuracy\", round(len(income[income[' salary']==' <=50K'])/len(income), 3))\n",
    "# majority category to miniority category is almost 3:1, no need for unbalanced data processing "
   ]
  },
  {
   "cell_type": "markdown",
   "id": "damaged-arlington",
   "metadata": {},
   "source": [
    "### Spilt data set to training data and testing data"
   ]
  },
  {
   "cell_type": "code",
   "execution_count": 20,
   "id": "configured-april",
   "metadata": {},
   "outputs": [],
   "source": [
    "from sklearn.model_selection import train_test_split\n",
    "from sklearn.preprocessing import StandardScaler, OneHotEncoder\n"
   ]
  },
  {
   "cell_type": "code",
   "execution_count": 21,
   "id": "familiar-gazette",
   "metadata": {},
   "outputs": [],
   "source": [
    "income_y = income[' salary']\n",
    "income = income.drop(columns=[' salary'])\n",
    "x_train, x_test, y_train, y_test = train_test_split(income, income_y, random_state=10)"
   ]
  },
  {
   "cell_type": "code",
   "execution_count": 22,
   "id": "relative-lease",
   "metadata": {},
   "outputs": [
    {
     "data": {
      "text/html": [
       "<div>\n",
       "<style scoped>\n",
       "    .dataframe tbody tr th:only-of-type {\n",
       "        vertical-align: middle;\n",
       "    }\n",
       "\n",
       "    .dataframe tbody tr th {\n",
       "        vertical-align: top;\n",
       "    }\n",
       "\n",
       "    .dataframe thead th {\n",
       "        text-align: right;\n",
       "    }\n",
       "</style>\n",
       "<table border=\"1\" class=\"dataframe\">\n",
       "  <thead>\n",
       "    <tr style=\"text-align: right;\">\n",
       "      <th></th>\n",
       "      <th>age</th>\n",
       "      <th>workclass</th>\n",
       "      <th>fnlwgt</th>\n",
       "      <th>education-num</th>\n",
       "      <th>marital-status</th>\n",
       "      <th>occupation</th>\n",
       "      <th>relationship</th>\n",
       "      <th>race</th>\n",
       "      <th>sex</th>\n",
       "      <th>capital-gain</th>\n",
       "      <th>capital-loss</th>\n",
       "      <th>hours-per-week</th>\n",
       "      <th>education level</th>\n",
       "    </tr>\n",
       "  </thead>\n",
       "  <tbody>\n",
       "    <tr>\n",
       "      <th>29849</th>\n",
       "      <td>27</td>\n",
       "      <td>Private</td>\n",
       "      <td>190391</td>\n",
       "      <td>10</td>\n",
       "      <td>Married-civ-spouse</td>\n",
       "      <td>Exec-managerial</td>\n",
       "      <td>Husband</td>\n",
       "      <td>White</td>\n",
       "      <td>Male</td>\n",
       "      <td>0</td>\n",
       "      <td>0</td>\n",
       "      <td>40</td>\n",
       "      <td>college</td>\n",
       "    </tr>\n",
       "    <tr>\n",
       "      <th>30319</th>\n",
       "      <td>18</td>\n",
       "      <td>Self-emp-inc</td>\n",
       "      <td>101061</td>\n",
       "      <td>7</td>\n",
       "      <td>Never-married</td>\n",
       "      <td>Farming-fishing</td>\n",
       "      <td>Own-child</td>\n",
       "      <td>White</td>\n",
       "      <td>Male</td>\n",
       "      <td>0</td>\n",
       "      <td>0</td>\n",
       "      <td>70</td>\n",
       "      <td>highschool</td>\n",
       "    </tr>\n",
       "    <tr>\n",
       "      <th>1878</th>\n",
       "      <td>23</td>\n",
       "      <td>?</td>\n",
       "      <td>22966</td>\n",
       "      <td>13</td>\n",
       "      <td>Never-married</td>\n",
       "      <td>?</td>\n",
       "      <td>Own-child</td>\n",
       "      <td>White</td>\n",
       "      <td>Male</td>\n",
       "      <td>0</td>\n",
       "      <td>0</td>\n",
       "      <td>35</td>\n",
       "      <td>college</td>\n",
       "    </tr>\n",
       "    <tr>\n",
       "      <th>20686</th>\n",
       "      <td>42</td>\n",
       "      <td>?</td>\n",
       "      <td>32533</td>\n",
       "      <td>10</td>\n",
       "      <td>Never-married</td>\n",
       "      <td>?</td>\n",
       "      <td>Not-in-family</td>\n",
       "      <td>White</td>\n",
       "      <td>Male</td>\n",
       "      <td>0</td>\n",
       "      <td>0</td>\n",
       "      <td>45</td>\n",
       "      <td>college</td>\n",
       "    </tr>\n",
       "    <tr>\n",
       "      <th>26007</th>\n",
       "      <td>42</td>\n",
       "      <td>Private</td>\n",
       "      <td>92288</td>\n",
       "      <td>14</td>\n",
       "      <td>Married-civ-spouse</td>\n",
       "      <td>Sales</td>\n",
       "      <td>Husband</td>\n",
       "      <td>Asian-Pac-Islander</td>\n",
       "      <td>Male</td>\n",
       "      <td>0</td>\n",
       "      <td>0</td>\n",
       "      <td>40</td>\n",
       "      <td>graduate</td>\n",
       "    </tr>\n",
       "    <tr>\n",
       "      <th>...</th>\n",
       "      <td>...</td>\n",
       "      <td>...</td>\n",
       "      <td>...</td>\n",
       "      <td>...</td>\n",
       "      <td>...</td>\n",
       "      <td>...</td>\n",
       "      <td>...</td>\n",
       "      <td>...</td>\n",
       "      <td>...</td>\n",
       "      <td>...</td>\n",
       "      <td>...</td>\n",
       "      <td>...</td>\n",
       "      <td>...</td>\n",
       "    </tr>\n",
       "    <tr>\n",
       "      <th>28017</th>\n",
       "      <td>27</td>\n",
       "      <td>Private</td>\n",
       "      <td>284741</td>\n",
       "      <td>10</td>\n",
       "      <td>Never-married</td>\n",
       "      <td>Sales</td>\n",
       "      <td>Not-in-family</td>\n",
       "      <td>White</td>\n",
       "      <td>Female</td>\n",
       "      <td>0</td>\n",
       "      <td>0</td>\n",
       "      <td>30</td>\n",
       "      <td>college</td>\n",
       "    </tr>\n",
       "    <tr>\n",
       "      <th>17728</th>\n",
       "      <td>35</td>\n",
       "      <td>Private</td>\n",
       "      <td>287701</td>\n",
       "      <td>12</td>\n",
       "      <td>Divorced</td>\n",
       "      <td>Craft-repair</td>\n",
       "      <td>Unmarried</td>\n",
       "      <td>White</td>\n",
       "      <td>Male</td>\n",
       "      <td>0</td>\n",
       "      <td>0</td>\n",
       "      <td>45</td>\n",
       "      <td>college</td>\n",
       "    </tr>\n",
       "    <tr>\n",
       "      <th>29199</th>\n",
       "      <td>19</td>\n",
       "      <td>Private</td>\n",
       "      <td>264593</td>\n",
       "      <td>10</td>\n",
       "      <td>Never-married</td>\n",
       "      <td>Sales</td>\n",
       "      <td>Other-relative</td>\n",
       "      <td>White</td>\n",
       "      <td>Male</td>\n",
       "      <td>0</td>\n",
       "      <td>0</td>\n",
       "      <td>40</td>\n",
       "      <td>college</td>\n",
       "    </tr>\n",
       "    <tr>\n",
       "      <th>7293</th>\n",
       "      <td>34</td>\n",
       "      <td>Private</td>\n",
       "      <td>118941</td>\n",
       "      <td>7</td>\n",
       "      <td>Never-married</td>\n",
       "      <td>Other-service</td>\n",
       "      <td>Not-in-family</td>\n",
       "      <td>White</td>\n",
       "      <td>Female</td>\n",
       "      <td>0</td>\n",
       "      <td>0</td>\n",
       "      <td>40</td>\n",
       "      <td>highschool</td>\n",
       "    </tr>\n",
       "    <tr>\n",
       "      <th>17673</th>\n",
       "      <td>19</td>\n",
       "      <td>Private</td>\n",
       "      <td>97261</td>\n",
       "      <td>9</td>\n",
       "      <td>Never-married</td>\n",
       "      <td>Farming-fishing</td>\n",
       "      <td>Not-in-family</td>\n",
       "      <td>White</td>\n",
       "      <td>Male</td>\n",
       "      <td>0</td>\n",
       "      <td>0</td>\n",
       "      <td>40</td>\n",
       "      <td>highschool</td>\n",
       "    </tr>\n",
       "  </tbody>\n",
       "</table>\n",
       "<p>24420 rows × 13 columns</p>\n",
       "</div>"
      ],
      "text/plain": [
       "       age      workclass   fnlwgt   education-num       marital-status  \\\n",
       "29849   27        Private   190391              10   Married-civ-spouse   \n",
       "30319   18   Self-emp-inc   101061               7        Never-married   \n",
       "1878    23              ?    22966              13        Never-married   \n",
       "20686   42              ?    32533              10        Never-married   \n",
       "26007   42        Private    92288              14   Married-civ-spouse   \n",
       "...    ...            ...      ...             ...                  ...   \n",
       "28017   27        Private   284741              10        Never-married   \n",
       "17728   35        Private   287701              12             Divorced   \n",
       "29199   19        Private   264593              10        Never-married   \n",
       "7293    34        Private   118941               7        Never-married   \n",
       "17673   19        Private    97261               9        Never-married   \n",
       "\n",
       "             occupation     relationship                 race      sex  \\\n",
       "29849   Exec-managerial          Husband                White     Male   \n",
       "30319   Farming-fishing        Own-child                White     Male   \n",
       "1878                  ?        Own-child                White     Male   \n",
       "20686                 ?    Not-in-family                White     Male   \n",
       "26007             Sales          Husband   Asian-Pac-Islander     Male   \n",
       "...                 ...              ...                  ...      ...   \n",
       "28017             Sales    Not-in-family                White   Female   \n",
       "17728      Craft-repair        Unmarried                White     Male   \n",
       "29199             Sales   Other-relative                White     Male   \n",
       "7293      Other-service    Not-in-family                White   Female   \n",
       "17673   Farming-fishing    Not-in-family                White     Male   \n",
       "\n",
       "        capital-gain   capital-loss   hours-per-week  education level  \n",
       "29849              0              0               40          college  \n",
       "30319              0              0               70       highschool  \n",
       "1878               0              0               35          college  \n",
       "20686              0              0               45          college  \n",
       "26007              0              0               40         graduate  \n",
       "...              ...            ...              ...              ...  \n",
       "28017              0              0               30          college  \n",
       "17728              0              0               45          college  \n",
       "29199              0              0               40          college  \n",
       "7293               0              0               40       highschool  \n",
       "17673              0              0               40       highschool  \n",
       "\n",
       "[24420 rows x 13 columns]"
      ]
     },
     "execution_count": 22,
     "metadata": {},
     "output_type": "execute_result"
    }
   ],
   "source": [
    "x_train"
   ]
  },
  {
   "cell_type": "markdown",
   "id": "unsigned-candle",
   "metadata": {},
   "source": [
    "### numeric feature preprocessing"
   ]
  },
  {
   "cell_type": "code",
   "execution_count": 23,
   "id": "antique-trail",
   "metadata": {},
   "outputs": [
    {
     "name": "stderr",
     "output_type": "stream",
     "text": [
      "C:\\Users\\zyang672\\AppData\\Local\\Continuum\\anaconda2\\envs\\newpython3\\lib\\site-packages\\ipykernel_launcher.py:4: SettingWithCopyWarning: \n",
      "A value is trying to be set on a copy of a slice from a DataFrame.\n",
      "Try using .loc[row_indexer,col_indexer] = value instead\n",
      "\n",
      "See the caveats in the documentation: https://pandas.pydata.org/pandas-docs/stable/user_guide/indexing.html#returning-a-view-versus-a-copy\n",
      "  after removing the cwd from sys.path.\n",
      "C:\\Users\\zyang672\\AppData\\Local\\Continuum\\anaconda2\\envs\\newpython3\\lib\\site-packages\\ipykernel_launcher.py:5: SettingWithCopyWarning: \n",
      "A value is trying to be set on a copy of a slice from a DataFrame.\n",
      "Try using .loc[row_indexer,col_indexer] = value instead\n",
      "\n",
      "See the caveats in the documentation: https://pandas.pydata.org/pandas-docs/stable/user_guide/indexing.html#returning-a-view-versus-a-copy\n",
      "  \"\"\"\n",
      "C:\\Users\\zyang672\\AppData\\Local\\Continuum\\anaconda2\\envs\\newpython3\\lib\\site-packages\\ipykernel_launcher.py:6: SettingWithCopyWarning: \n",
      "A value is trying to be set on a copy of a slice from a DataFrame.\n",
      "Try using .loc[row_indexer,col_indexer] = value instead\n",
      "\n",
      "See the caveats in the documentation: https://pandas.pydata.org/pandas-docs/stable/user_guide/indexing.html#returning-a-view-versus-a-copy\n",
      "  \n",
      "C:\\Users\\zyang672\\AppData\\Local\\Continuum\\anaconda2\\envs\\newpython3\\lib\\site-packages\\ipykernel_launcher.py:7: SettingWithCopyWarning: \n",
      "A value is trying to be set on a copy of a slice from a DataFrame.\n",
      "Try using .loc[row_indexer,col_indexer] = value instead\n",
      "\n",
      "See the caveats in the documentation: https://pandas.pydata.org/pandas-docs/stable/user_guide/indexing.html#returning-a-view-versus-a-copy\n",
      "  import sys\n"
     ]
    }
   ],
   "source": [
    "# data transformation\n",
    "# from numeric feature EDA we can see, feature capital-gain and capital-loss are prositive skewed, so use log transformation\n",
    "\n",
    "x_train[' new_capital_loss'] = x_train[' capital-loss'].apply(lambda x:log(x+0.0001))\n",
    "x_train[' new_capital_gain'] = x_train[' capital-gain'].apply(lambda x:log(x+0.0001))\n",
    "x_test[' new_capital_loss'] = x_test[' capital-loss'].apply(lambda x:log(x+0.0001))\n",
    "x_test[' new_capital_gain'] = x_test[' capital-gain'].apply(lambda x:log(x+0.0001))"
   ]
  },
  {
   "cell_type": "code",
   "execution_count": 24,
   "id": "rapid-fault",
   "metadata": {},
   "outputs": [],
   "source": [
    "x_train = x_train.drop(columns=[' capital-loss', ' capital-gain'])\n",
    "x_test = x_test.drop(columns=[' capital-loss', ' capital-gain'])\n"
   ]
  },
  {
   "cell_type": "code",
   "execution_count": 25,
   "id": "private-relative",
   "metadata": {},
   "outputs": [],
   "source": [
    "numeric_features = x_train.describe().columns\n",
    "categorical_features = x_train.describe(include = np.object).columns"
   ]
  },
  {
   "cell_type": "code",
   "execution_count": 26,
   "id": "alien-berkeley",
   "metadata": {},
   "outputs": [
    {
     "data": {
      "text/html": [
       "<div>\n",
       "<style scoped>\n",
       "    .dataframe tbody tr th:only-of-type {\n",
       "        vertical-align: middle;\n",
       "    }\n",
       "\n",
       "    .dataframe tbody tr th {\n",
       "        vertical-align: top;\n",
       "    }\n",
       "\n",
       "    .dataframe thead th {\n",
       "        text-align: right;\n",
       "    }\n",
       "</style>\n",
       "<table border=\"1\" class=\"dataframe\">\n",
       "  <thead>\n",
       "    <tr style=\"text-align: right;\">\n",
       "      <th></th>\n",
       "      <th>age</th>\n",
       "      <th>workclass</th>\n",
       "      <th>fnlwgt</th>\n",
       "      <th>education-num</th>\n",
       "      <th>marital-status</th>\n",
       "      <th>occupation</th>\n",
       "      <th>relationship</th>\n",
       "      <th>race</th>\n",
       "      <th>sex</th>\n",
       "      <th>hours-per-week</th>\n",
       "      <th>education level</th>\n",
       "      <th>new_capital_loss</th>\n",
       "      <th>new_capital_gain</th>\n",
       "    </tr>\n",
       "  </thead>\n",
       "  <tbody>\n",
       "    <tr>\n",
       "      <th>29849</th>\n",
       "      <td>-0.850293</td>\n",
       "      <td>Private</td>\n",
       "      <td>0.004362</td>\n",
       "      <td>-0.037930</td>\n",
       "      <td>Married-civ-spouse</td>\n",
       "      <td>Exec-managerial</td>\n",
       "      <td>Husband</td>\n",
       "      <td>White</td>\n",
       "      <td>Male</td>\n",
       "      <td>-0.033797</td>\n",
       "      <td>college</td>\n",
       "      <td>-0.218913</td>\n",
       "      <td>-0.300935</td>\n",
       "    </tr>\n",
       "    <tr>\n",
       "      <th>30319</th>\n",
       "      <td>-1.509055</td>\n",
       "      <td>Self-emp-inc</td>\n",
       "      <td>-0.836751</td>\n",
       "      <td>-1.206468</td>\n",
       "      <td>Never-married</td>\n",
       "      <td>Farming-fishing</td>\n",
       "      <td>Own-child</td>\n",
       "      <td>White</td>\n",
       "      <td>Male</td>\n",
       "      <td>2.407018</td>\n",
       "      <td>highschool</td>\n",
       "      <td>-0.218913</td>\n",
       "      <td>-0.300935</td>\n",
       "    </tr>\n",
       "    <tr>\n",
       "      <th>1878</th>\n",
       "      <td>-1.143076</td>\n",
       "      <td>?</td>\n",
       "      <td>-1.572077</td>\n",
       "      <td>1.130607</td>\n",
       "      <td>Never-married</td>\n",
       "      <td>?</td>\n",
       "      <td>Own-child</td>\n",
       "      <td>White</td>\n",
       "      <td>Male</td>\n",
       "      <td>-0.440599</td>\n",
       "      <td>college</td>\n",
       "      <td>-0.218913</td>\n",
       "      <td>-0.300935</td>\n",
       "    </tr>\n",
       "    <tr>\n",
       "      <th>20686</th>\n",
       "      <td>0.247643</td>\n",
       "      <td>?</td>\n",
       "      <td>-1.481996</td>\n",
       "      <td>-0.037930</td>\n",
       "      <td>Never-married</td>\n",
       "      <td>?</td>\n",
       "      <td>Not-in-family</td>\n",
       "      <td>White</td>\n",
       "      <td>Male</td>\n",
       "      <td>0.373006</td>\n",
       "      <td>college</td>\n",
       "      <td>-0.218913</td>\n",
       "      <td>-0.300935</td>\n",
       "    </tr>\n",
       "    <tr>\n",
       "      <th>26007</th>\n",
       "      <td>0.247643</td>\n",
       "      <td>Private</td>\n",
       "      <td>-0.919355</td>\n",
       "      <td>1.520119</td>\n",
       "      <td>Married-civ-spouse</td>\n",
       "      <td>Sales</td>\n",
       "      <td>Husband</td>\n",
       "      <td>Asian-Pac-Islander</td>\n",
       "      <td>Male</td>\n",
       "      <td>-0.033797</td>\n",
       "      <td>graduate</td>\n",
       "      <td>-0.218913</td>\n",
       "      <td>-0.300935</td>\n",
       "    </tr>\n",
       "  </tbody>\n",
       "</table>\n",
       "</div>"
      ],
      "text/plain": [
       "            age      workclass    fnlwgt   education-num       marital-status  \\\n",
       "29849 -0.850293        Private  0.004362       -0.037930   Married-civ-spouse   \n",
       "30319 -1.509055   Self-emp-inc -0.836751       -1.206468        Never-married   \n",
       "1878  -1.143076              ? -1.572077        1.130607        Never-married   \n",
       "20686  0.247643              ? -1.481996       -0.037930        Never-married   \n",
       "26007  0.247643        Private -0.919355        1.520119   Married-civ-spouse   \n",
       "\n",
       "             occupation    relationship                 race    sex  \\\n",
       "29849   Exec-managerial         Husband                White   Male   \n",
       "30319   Farming-fishing       Own-child                White   Male   \n",
       "1878                  ?       Own-child                White   Male   \n",
       "20686                 ?   Not-in-family                White   Male   \n",
       "26007             Sales         Husband   Asian-Pac-Islander   Male   \n",
       "\n",
       "        hours-per-week  education level   new_capital_loss   new_capital_gain  \n",
       "29849        -0.033797          college          -0.218913          -0.300935  \n",
       "30319         2.407018       highschool          -0.218913          -0.300935  \n",
       "1878         -0.440599          college          -0.218913          -0.300935  \n",
       "20686         0.373006          college          -0.218913          -0.300935  \n",
       "26007        -0.033797         graduate          -0.218913          -0.300935  "
      ]
     },
     "execution_count": 26,
     "metadata": {},
     "output_type": "execute_result"
    }
   ],
   "source": [
    "sc_X = StandardScaler()\n",
    "x_train[numeric_features] = sc_X.fit_transform(x_train[numeric_features])\n",
    "x_test[numeric_features] = sc_X.transform(x_test[numeric_features])\n",
    "x_train.head()"
   ]
  },
  {
   "cell_type": "markdown",
   "id": "acceptable-engineer",
   "metadata": {},
   "source": [
    "### categorical feature preprocessing"
   ]
  },
  {
   "cell_type": "code",
   "execution_count": 27,
   "id": "pending-copyright",
   "metadata": {},
   "outputs": [],
   "source": [
    "label_encoder = OneHotEncoder()\n",
    "'''\n",
    "for feature in categorical_features:\n",
    "    x_train[feature] = label_encoder.fit_transform(x_train[feature])\n",
    "    x_test[feature] = label_encoder.transform(x_test[feature])\n",
    "'''\n",
    "one_hot_train = label_encoder.fit_transform(x_train[categorical_features]).toarray()\n",
    "one_hot_train = pd.DataFrame(one_hot_train, index=x_train.index, columns=label_encoder.get_feature_names(categorical_features))\n",
    "one_hot_test = label_encoder.fit_transform(x_test[categorical_features]).toarray()\n",
    "one_hot_test = pd.DataFrame(one_hot_test, index=x_test.index, columns=label_encoder.get_feature_names(categorical_features))"
   ]
  },
  {
   "cell_type": "code",
   "execution_count": 28,
   "id": "hairy-motivation",
   "metadata": {},
   "outputs": [
    {
     "data": {
      "text/html": [
       "<div>\n",
       "<style scoped>\n",
       "    .dataframe tbody tr th:only-of-type {\n",
       "        vertical-align: middle;\n",
       "    }\n",
       "\n",
       "    .dataframe tbody tr th {\n",
       "        vertical-align: top;\n",
       "    }\n",
       "\n",
       "    .dataframe thead th {\n",
       "        text-align: right;\n",
       "    }\n",
       "</style>\n",
       "<table border=\"1\" class=\"dataframe\">\n",
       "  <thead>\n",
       "    <tr style=\"text-align: right;\">\n",
       "      <th></th>\n",
       "      <th>workclass_ ?</th>\n",
       "      <th>workclass_ Federal-gov</th>\n",
       "      <th>workclass_ Local-gov</th>\n",
       "      <th>workclass_ Never-worked</th>\n",
       "      <th>workclass_ Private</th>\n",
       "      <th>workclass_ Self-emp-inc</th>\n",
       "      <th>workclass_ Self-emp-not-inc</th>\n",
       "      <th>workclass_ State-gov</th>\n",
       "      <th>workclass_ Without-pay</th>\n",
       "      <th>marital-status_ Divorced</th>\n",
       "      <th>...</th>\n",
       "      <th>race_ Asian-Pac-Islander</th>\n",
       "      <th>race_ Black</th>\n",
       "      <th>race_ Other</th>\n",
       "      <th>race_ White</th>\n",
       "      <th>sex_ Female</th>\n",
       "      <th>sex_ Male</th>\n",
       "      <th>education level_college</th>\n",
       "      <th>education level_graduate</th>\n",
       "      <th>education level_highschool</th>\n",
       "      <th>education level_pre highschool</th>\n",
       "    </tr>\n",
       "  </thead>\n",
       "  <tbody>\n",
       "    <tr>\n",
       "      <th>29849</th>\n",
       "      <td>0.0</td>\n",
       "      <td>0.0</td>\n",
       "      <td>0.0</td>\n",
       "      <td>0.0</td>\n",
       "      <td>1.0</td>\n",
       "      <td>0.0</td>\n",
       "      <td>0.0</td>\n",
       "      <td>0.0</td>\n",
       "      <td>0.0</td>\n",
       "      <td>0.0</td>\n",
       "      <td>...</td>\n",
       "      <td>0.0</td>\n",
       "      <td>0.0</td>\n",
       "      <td>0.0</td>\n",
       "      <td>1.0</td>\n",
       "      <td>0.0</td>\n",
       "      <td>1.0</td>\n",
       "      <td>1.0</td>\n",
       "      <td>0.0</td>\n",
       "      <td>0.0</td>\n",
       "      <td>0.0</td>\n",
       "    </tr>\n",
       "    <tr>\n",
       "      <th>30319</th>\n",
       "      <td>0.0</td>\n",
       "      <td>0.0</td>\n",
       "      <td>0.0</td>\n",
       "      <td>0.0</td>\n",
       "      <td>0.0</td>\n",
       "      <td>1.0</td>\n",
       "      <td>0.0</td>\n",
       "      <td>0.0</td>\n",
       "      <td>0.0</td>\n",
       "      <td>0.0</td>\n",
       "      <td>...</td>\n",
       "      <td>0.0</td>\n",
       "      <td>0.0</td>\n",
       "      <td>0.0</td>\n",
       "      <td>1.0</td>\n",
       "      <td>0.0</td>\n",
       "      <td>1.0</td>\n",
       "      <td>0.0</td>\n",
       "      <td>0.0</td>\n",
       "      <td>1.0</td>\n",
       "      <td>0.0</td>\n",
       "    </tr>\n",
       "    <tr>\n",
       "      <th>1878</th>\n",
       "      <td>1.0</td>\n",
       "      <td>0.0</td>\n",
       "      <td>0.0</td>\n",
       "      <td>0.0</td>\n",
       "      <td>0.0</td>\n",
       "      <td>0.0</td>\n",
       "      <td>0.0</td>\n",
       "      <td>0.0</td>\n",
       "      <td>0.0</td>\n",
       "      <td>0.0</td>\n",
       "      <td>...</td>\n",
       "      <td>0.0</td>\n",
       "      <td>0.0</td>\n",
       "      <td>0.0</td>\n",
       "      <td>1.0</td>\n",
       "      <td>0.0</td>\n",
       "      <td>1.0</td>\n",
       "      <td>1.0</td>\n",
       "      <td>0.0</td>\n",
       "      <td>0.0</td>\n",
       "      <td>0.0</td>\n",
       "    </tr>\n",
       "    <tr>\n",
       "      <th>20686</th>\n",
       "      <td>1.0</td>\n",
       "      <td>0.0</td>\n",
       "      <td>0.0</td>\n",
       "      <td>0.0</td>\n",
       "      <td>0.0</td>\n",
       "      <td>0.0</td>\n",
       "      <td>0.0</td>\n",
       "      <td>0.0</td>\n",
       "      <td>0.0</td>\n",
       "      <td>0.0</td>\n",
       "      <td>...</td>\n",
       "      <td>0.0</td>\n",
       "      <td>0.0</td>\n",
       "      <td>0.0</td>\n",
       "      <td>1.0</td>\n",
       "      <td>0.0</td>\n",
       "      <td>1.0</td>\n",
       "      <td>1.0</td>\n",
       "      <td>0.0</td>\n",
       "      <td>0.0</td>\n",
       "      <td>0.0</td>\n",
       "    </tr>\n",
       "    <tr>\n",
       "      <th>26007</th>\n",
       "      <td>0.0</td>\n",
       "      <td>0.0</td>\n",
       "      <td>0.0</td>\n",
       "      <td>0.0</td>\n",
       "      <td>1.0</td>\n",
       "      <td>0.0</td>\n",
       "      <td>0.0</td>\n",
       "      <td>0.0</td>\n",
       "      <td>0.0</td>\n",
       "      <td>0.0</td>\n",
       "      <td>...</td>\n",
       "      <td>1.0</td>\n",
       "      <td>0.0</td>\n",
       "      <td>0.0</td>\n",
       "      <td>0.0</td>\n",
       "      <td>0.0</td>\n",
       "      <td>1.0</td>\n",
       "      <td>0.0</td>\n",
       "      <td>1.0</td>\n",
       "      <td>0.0</td>\n",
       "      <td>0.0</td>\n",
       "    </tr>\n",
       "    <tr>\n",
       "      <th>...</th>\n",
       "      <td>...</td>\n",
       "      <td>...</td>\n",
       "      <td>...</td>\n",
       "      <td>...</td>\n",
       "      <td>...</td>\n",
       "      <td>...</td>\n",
       "      <td>...</td>\n",
       "      <td>...</td>\n",
       "      <td>...</td>\n",
       "      <td>...</td>\n",
       "      <td>...</td>\n",
       "      <td>...</td>\n",
       "      <td>...</td>\n",
       "      <td>...</td>\n",
       "      <td>...</td>\n",
       "      <td>...</td>\n",
       "      <td>...</td>\n",
       "      <td>...</td>\n",
       "      <td>...</td>\n",
       "      <td>...</td>\n",
       "      <td>...</td>\n",
       "    </tr>\n",
       "    <tr>\n",
       "      <th>28017</th>\n",
       "      <td>0.0</td>\n",
       "      <td>0.0</td>\n",
       "      <td>0.0</td>\n",
       "      <td>0.0</td>\n",
       "      <td>1.0</td>\n",
       "      <td>0.0</td>\n",
       "      <td>0.0</td>\n",
       "      <td>0.0</td>\n",
       "      <td>0.0</td>\n",
       "      <td>0.0</td>\n",
       "      <td>...</td>\n",
       "      <td>0.0</td>\n",
       "      <td>0.0</td>\n",
       "      <td>0.0</td>\n",
       "      <td>1.0</td>\n",
       "      <td>1.0</td>\n",
       "      <td>0.0</td>\n",
       "      <td>1.0</td>\n",
       "      <td>0.0</td>\n",
       "      <td>0.0</td>\n",
       "      <td>0.0</td>\n",
       "    </tr>\n",
       "    <tr>\n",
       "      <th>17728</th>\n",
       "      <td>0.0</td>\n",
       "      <td>0.0</td>\n",
       "      <td>0.0</td>\n",
       "      <td>0.0</td>\n",
       "      <td>1.0</td>\n",
       "      <td>0.0</td>\n",
       "      <td>0.0</td>\n",
       "      <td>0.0</td>\n",
       "      <td>0.0</td>\n",
       "      <td>1.0</td>\n",
       "      <td>...</td>\n",
       "      <td>0.0</td>\n",
       "      <td>0.0</td>\n",
       "      <td>0.0</td>\n",
       "      <td>1.0</td>\n",
       "      <td>0.0</td>\n",
       "      <td>1.0</td>\n",
       "      <td>1.0</td>\n",
       "      <td>0.0</td>\n",
       "      <td>0.0</td>\n",
       "      <td>0.0</td>\n",
       "    </tr>\n",
       "    <tr>\n",
       "      <th>29199</th>\n",
       "      <td>0.0</td>\n",
       "      <td>0.0</td>\n",
       "      <td>0.0</td>\n",
       "      <td>0.0</td>\n",
       "      <td>1.0</td>\n",
       "      <td>0.0</td>\n",
       "      <td>0.0</td>\n",
       "      <td>0.0</td>\n",
       "      <td>0.0</td>\n",
       "      <td>0.0</td>\n",
       "      <td>...</td>\n",
       "      <td>0.0</td>\n",
       "      <td>0.0</td>\n",
       "      <td>0.0</td>\n",
       "      <td>1.0</td>\n",
       "      <td>0.0</td>\n",
       "      <td>1.0</td>\n",
       "      <td>1.0</td>\n",
       "      <td>0.0</td>\n",
       "      <td>0.0</td>\n",
       "      <td>0.0</td>\n",
       "    </tr>\n",
       "    <tr>\n",
       "      <th>7293</th>\n",
       "      <td>0.0</td>\n",
       "      <td>0.0</td>\n",
       "      <td>0.0</td>\n",
       "      <td>0.0</td>\n",
       "      <td>1.0</td>\n",
       "      <td>0.0</td>\n",
       "      <td>0.0</td>\n",
       "      <td>0.0</td>\n",
       "      <td>0.0</td>\n",
       "      <td>0.0</td>\n",
       "      <td>...</td>\n",
       "      <td>0.0</td>\n",
       "      <td>0.0</td>\n",
       "      <td>0.0</td>\n",
       "      <td>1.0</td>\n",
       "      <td>1.0</td>\n",
       "      <td>0.0</td>\n",
       "      <td>0.0</td>\n",
       "      <td>0.0</td>\n",
       "      <td>1.0</td>\n",
       "      <td>0.0</td>\n",
       "    </tr>\n",
       "    <tr>\n",
       "      <th>17673</th>\n",
       "      <td>0.0</td>\n",
       "      <td>0.0</td>\n",
       "      <td>0.0</td>\n",
       "      <td>0.0</td>\n",
       "      <td>1.0</td>\n",
       "      <td>0.0</td>\n",
       "      <td>0.0</td>\n",
       "      <td>0.0</td>\n",
       "      <td>0.0</td>\n",
       "      <td>0.0</td>\n",
       "      <td>...</td>\n",
       "      <td>0.0</td>\n",
       "      <td>0.0</td>\n",
       "      <td>0.0</td>\n",
       "      <td>1.0</td>\n",
       "      <td>0.0</td>\n",
       "      <td>1.0</td>\n",
       "      <td>0.0</td>\n",
       "      <td>0.0</td>\n",
       "      <td>1.0</td>\n",
       "      <td>0.0</td>\n",
       "    </tr>\n",
       "  </tbody>\n",
       "</table>\n",
       "<p>24420 rows × 48 columns</p>\n",
       "</div>"
      ],
      "text/plain": [
       "        workclass_ ?   workclass_ Federal-gov   workclass_ Local-gov  \\\n",
       "29849            0.0                      0.0                    0.0   \n",
       "30319            0.0                      0.0                    0.0   \n",
       "1878             1.0                      0.0                    0.0   \n",
       "20686            1.0                      0.0                    0.0   \n",
       "26007            0.0                      0.0                    0.0   \n",
       "...              ...                      ...                    ...   \n",
       "28017            0.0                      0.0                    0.0   \n",
       "17728            0.0                      0.0                    0.0   \n",
       "29199            0.0                      0.0                    0.0   \n",
       "7293             0.0                      0.0                    0.0   \n",
       "17673            0.0                      0.0                    0.0   \n",
       "\n",
       "        workclass_ Never-worked   workclass_ Private  \\\n",
       "29849                       0.0                  1.0   \n",
       "30319                       0.0                  0.0   \n",
       "1878                        0.0                  0.0   \n",
       "20686                       0.0                  0.0   \n",
       "26007                       0.0                  1.0   \n",
       "...                         ...                  ...   \n",
       "28017                       0.0                  1.0   \n",
       "17728                       0.0                  1.0   \n",
       "29199                       0.0                  1.0   \n",
       "7293                        0.0                  1.0   \n",
       "17673                       0.0                  1.0   \n",
       "\n",
       "        workclass_ Self-emp-inc   workclass_ Self-emp-not-inc  \\\n",
       "29849                       0.0                           0.0   \n",
       "30319                       1.0                           0.0   \n",
       "1878                        0.0                           0.0   \n",
       "20686                       0.0                           0.0   \n",
       "26007                       0.0                           0.0   \n",
       "...                         ...                           ...   \n",
       "28017                       0.0                           0.0   \n",
       "17728                       0.0                           0.0   \n",
       "29199                       0.0                           0.0   \n",
       "7293                        0.0                           0.0   \n",
       "17673                       0.0                           0.0   \n",
       "\n",
       "        workclass_ State-gov   workclass_ Without-pay  \\\n",
       "29849                    0.0                      0.0   \n",
       "30319                    0.0                      0.0   \n",
       "1878                     0.0                      0.0   \n",
       "20686                    0.0                      0.0   \n",
       "26007                    0.0                      0.0   \n",
       "...                      ...                      ...   \n",
       "28017                    0.0                      0.0   \n",
       "17728                    0.0                      0.0   \n",
       "29199                    0.0                      0.0   \n",
       "7293                     0.0                      0.0   \n",
       "17673                    0.0                      0.0   \n",
       "\n",
       "        marital-status_ Divorced  ...   race_ Asian-Pac-Islander  \\\n",
       "29849                        0.0  ...                        0.0   \n",
       "30319                        0.0  ...                        0.0   \n",
       "1878                         0.0  ...                        0.0   \n",
       "20686                        0.0  ...                        0.0   \n",
       "26007                        0.0  ...                        1.0   \n",
       "...                          ...  ...                        ...   \n",
       "28017                        0.0  ...                        0.0   \n",
       "17728                        1.0  ...                        0.0   \n",
       "29199                        0.0  ...                        0.0   \n",
       "7293                         0.0  ...                        0.0   \n",
       "17673                        0.0  ...                        0.0   \n",
       "\n",
       "        race_ Black   race_ Other   race_ White   sex_ Female   sex_ Male  \\\n",
       "29849           0.0           0.0           1.0           0.0         1.0   \n",
       "30319           0.0           0.0           1.0           0.0         1.0   \n",
       "1878            0.0           0.0           1.0           0.0         1.0   \n",
       "20686           0.0           0.0           1.0           0.0         1.0   \n",
       "26007           0.0           0.0           0.0           0.0         1.0   \n",
       "...             ...           ...           ...           ...         ...   \n",
       "28017           0.0           0.0           1.0           1.0         0.0   \n",
       "17728           0.0           0.0           1.0           0.0         1.0   \n",
       "29199           0.0           0.0           1.0           0.0         1.0   \n",
       "7293            0.0           0.0           1.0           1.0         0.0   \n",
       "17673           0.0           0.0           1.0           0.0         1.0   \n",
       "\n",
       "        education level_college   education level_graduate  \\\n",
       "29849                       1.0                        0.0   \n",
       "30319                       0.0                        0.0   \n",
       "1878                        1.0                        0.0   \n",
       "20686                       1.0                        0.0   \n",
       "26007                       0.0                        1.0   \n",
       "...                         ...                        ...   \n",
       "28017                       1.0                        0.0   \n",
       "17728                       1.0                        0.0   \n",
       "29199                       1.0                        0.0   \n",
       "7293                        0.0                        0.0   \n",
       "17673                       0.0                        0.0   \n",
       "\n",
       "        education level_highschool   education level_pre highschool  \n",
       "29849                          0.0                              0.0  \n",
       "30319                          1.0                              0.0  \n",
       "1878                           0.0                              0.0  \n",
       "20686                          0.0                              0.0  \n",
       "26007                          0.0                              0.0  \n",
       "...                            ...                              ...  \n",
       "28017                          0.0                              0.0  \n",
       "17728                          0.0                              0.0  \n",
       "29199                          0.0                              0.0  \n",
       "7293                           1.0                              0.0  \n",
       "17673                          1.0                              0.0  \n",
       "\n",
       "[24420 rows x 48 columns]"
      ]
     },
     "execution_count": 28,
     "metadata": {},
     "output_type": "execute_result"
    }
   ],
   "source": [
    "one_hot_train"
   ]
  },
  {
   "cell_type": "markdown",
   "id": "needed-manor",
   "metadata": {},
   "source": [
    "Preprocessing summary:\n",
    "\n",
    "1. for numeric features, I applied log transformation for two features \"capital_gain\" and \"capital_loss\" to limit their value in a narrow range, and then normalized all numeric features by z-scores\n",
    "2. for categorical features, I applied one-hot encoding to all features.\n",
    "3. From EDA, I find there's no need for missing value and outlier dealing. More feature engineering work will be done if needed to improve models' performance in the future."
   ]
  },
  {
   "cell_type": "markdown",
   "id": "professional-professor",
   "metadata": {},
   "source": [
    "## Modelling\n"
   ]
  },
  {
   "cell_type": "code",
   "execution_count": 29,
   "id": "banner-naples",
   "metadata": {},
   "outputs": [],
   "source": [
    "from sklearn.metrics import classification_report, confusion_matrix, accuracy_score\n",
    "import statsmodels.api as sm"
   ]
  },
  {
   "cell_type": "code",
   "execution_count": 30,
   "id": "associate-colorado",
   "metadata": {},
   "outputs": [],
   "source": [
    "def result(Y_TEST, PRED):\n",
    "    print(\"Accuracy:\", accuracy_score(Y_TEST, PRED))\n",
    "    print(\"Classification report:\\n\", classification_report(Y_TEST, PRED))\n",
    "    print(\"Confusion Matrix:\\n\", confusion_matrix(Y_TEST, PRED))"
   ]
  },
  {
   "cell_type": "code",
   "execution_count": 31,
   "id": "impossible-connection",
   "metadata": {},
   "outputs": [],
   "source": [
    "x_train2 = pd.concat([x_train[numeric_features], one_hot_train], axis=1)\n",
    "x_test2 = pd.concat([x_test[numeric_features], one_hot_test], axis=1)"
   ]
  },
  {
   "cell_type": "markdown",
   "id": "reported-parts",
   "metadata": {},
   "source": [
    "### logistic regressing"
   ]
  },
  {
   "cell_type": "code",
   "execution_count": 32,
   "id": "thrown-crossing",
   "metadata": {},
   "outputs": [],
   "source": [
    "from sklearn.linear_model import LogisticRegression"
   ]
  },
  {
   "cell_type": "code",
   "execution_count": 33,
   "id": "regional-celtic",
   "metadata": {},
   "outputs": [],
   "source": [
    "x_train2 = pd.concat([x_train[numeric_features], one_hot_train], axis=1)\n",
    "x_test2 = pd.concat([x_test[numeric_features], one_hot_test], axis=1)"
   ]
  },
  {
   "cell_type": "code",
   "execution_count": 34,
   "id": "romance-offset",
   "metadata": {},
   "outputs": [
    {
     "name": "stderr",
     "output_type": "stream",
     "text": [
      "C:\\Users\\zyang672\\AppData\\Local\\Continuum\\anaconda2\\envs\\newpython3\\lib\\site-packages\\sklearn\\linear_model\\_logistic.py:765: ConvergenceWarning: lbfgs failed to converge (status=1):\n",
      "STOP: TOTAL NO. of ITERATIONS REACHED LIMIT.\n",
      "\n",
      "Increase the number of iterations (max_iter) or scale the data as shown in:\n",
      "    https://scikit-learn.org/stable/modules/preprocessing.html\n",
      "Please also refer to the documentation for alternative solver options:\n",
      "    https://scikit-learn.org/stable/modules/linear_model.html#logistic-regression\n",
      "  extra_warning_msg=_LOGISTIC_SOLVER_CONVERGENCE_MSG)\n"
     ]
    },
    {
     "data": {
      "text/plain": [
       "LogisticRegression()"
      ]
     },
     "execution_count": 34,
     "metadata": {},
     "output_type": "execute_result"
    }
   ],
   "source": [
    "logisticRegr = LogisticRegression()\n",
    "logisticRegr.fit(x_train2, y_train)"
   ]
  },
  {
   "cell_type": "code",
   "execution_count": 35,
   "id": "heavy-gnome",
   "metadata": {},
   "outputs": [
    {
     "name": "stdout",
     "output_type": "stream",
     "text": [
      "Accuracy: 0.8455963640830365\n",
      "Classification report:\n",
      "               precision    recall  f1-score   support\n",
      "\n",
      "       <=50K       0.88      0.93      0.90      6205\n",
      "        >50K       0.72      0.58      0.64      1936\n",
      "\n",
      "    accuracy                           0.85      8141\n",
      "   macro avg       0.80      0.76      0.77      8141\n",
      "weighted avg       0.84      0.85      0.84      8141\n",
      "\n",
      "Confusion Matrix:\n",
      " [[5755  450]\n",
      " [ 807 1129]]\n"
     ]
    }
   ],
   "source": [
    "y_predicted_lr = logisticRegr.predict(x_test2)\n",
    "result(y_test, y_predicted_lr)"
   ]
  },
  {
   "cell_type": "code",
   "execution_count": 36,
   "id": "actual-jewel",
   "metadata": {},
   "outputs": [
    {
     "data": {
      "text/html": [
       "<div>\n",
       "<style scoped>\n",
       "    .dataframe tbody tr th:only-of-type {\n",
       "        vertical-align: middle;\n",
       "    }\n",
       "\n",
       "    .dataframe tbody tr th {\n",
       "        vertical-align: top;\n",
       "    }\n",
       "\n",
       "    .dataframe thead th {\n",
       "        text-align: right;\n",
       "    }\n",
       "</style>\n",
       "<table border=\"1\" class=\"dataframe\">\n",
       "  <thead>\n",
       "    <tr style=\"text-align: right;\">\n",
       "      <th></th>\n",
       "      <th>Coefficients</th>\n",
       "    </tr>\n",
       "  </thead>\n",
       "  <tbody>\n",
       "    <tr>\n",
       "      <th>marital-status_ Married-civ-spouse</th>\n",
       "      <td>1.306426</td>\n",
       "    </tr>\n",
       "    <tr>\n",
       "      <th>marital-status_ Married-AF-spouse</th>\n",
       "      <td>1.127361</td>\n",
       "    </tr>\n",
       "    <tr>\n",
       "      <th>relationship_ Wife</th>\n",
       "      <td>1.116065</td>\n",
       "    </tr>\n",
       "    <tr>\n",
       "      <th>occupation_ Exec-managerial</th>\n",
       "      <td>0.862346</td>\n",
       "    </tr>\n",
       "    <tr>\n",
       "      <th>education-num</th>\n",
       "      <td>0.721626</td>\n",
       "    </tr>\n",
       "    <tr>\n",
       "      <th>workclass_ Federal-gov</th>\n",
       "      <td>0.619780</td>\n",
       "    </tr>\n",
       "    <tr>\n",
       "      <th>occupation_ Prof-specialty</th>\n",
       "      <td>0.618842</td>\n",
       "    </tr>\n",
       "    <tr>\n",
       "      <th>occupation_ Tech-support</th>\n",
       "      <td>0.617897</td>\n",
       "    </tr>\n",
       "    <tr>\n",
       "      <th>occupation_ Protective-serv</th>\n",
       "      <td>0.593171</td>\n",
       "    </tr>\n",
       "    <tr>\n",
       "      <th>new_capital_gain</th>\n",
       "      <td>0.482754</td>\n",
       "    </tr>\n",
       "    <tr>\n",
       "      <th>hours-per-week</th>\n",
       "      <td>0.375500</td>\n",
       "    </tr>\n",
       "    <tr>\n",
       "      <th>age</th>\n",
       "      <td>0.367258</td>\n",
       "    </tr>\n",
       "    <tr>\n",
       "      <th>occupation_ Sales</th>\n",
       "      <td>0.356557</td>\n",
       "    </tr>\n",
       "    <tr>\n",
       "      <th>workclass_ Self-emp-inc</th>\n",
       "      <td>0.317251</td>\n",
       "    </tr>\n",
       "    <tr>\n",
       "      <th>new_capital_loss</th>\n",
       "      <td>0.233288</td>\n",
       "    </tr>\n",
       "    <tr>\n",
       "      <th>occupation_ Craft-repair</th>\n",
       "      <td>0.150657</td>\n",
       "    </tr>\n",
       "    <tr>\n",
       "      <th>workclass_ Private</th>\n",
       "      <td>0.140779</td>\n",
       "    </tr>\n",
       "    <tr>\n",
       "      <th>race_ White</th>\n",
       "      <td>0.111013</td>\n",
       "    </tr>\n",
       "    <tr>\n",
       "      <th>relationship_ Not-in-family</th>\n",
       "      <td>0.082164</td>\n",
       "    </tr>\n",
       "    <tr>\n",
       "      <th>fnlwgt</th>\n",
       "      <td>0.060502</td>\n",
       "    </tr>\n",
       "    <tr>\n",
       "      <th>occupation_ Adm-clerical</th>\n",
       "      <td>0.031347</td>\n",
       "    </tr>\n",
       "    <tr>\n",
       "      <th>occupation_ Transport-moving</th>\n",
       "      <td>0.030703</td>\n",
       "    </tr>\n",
       "    <tr>\n",
       "      <th>race_ Asian-Pac-Islander</th>\n",
       "      <td>-0.044910</td>\n",
       "    </tr>\n",
       "    <tr>\n",
       "      <th>sex_ Male</th>\n",
       "      <td>-0.059816</td>\n",
       "    </tr>\n",
       "    <tr>\n",
       "      <th>race_ Black</th>\n",
       "      <td>-0.059958</td>\n",
       "    </tr>\n",
       "    <tr>\n",
       "      <th>workclass_ Local-gov</th>\n",
       "      <td>-0.091249</td>\n",
       "    </tr>\n",
       "    <tr>\n",
       "      <th>relationship_ Unmarried</th>\n",
       "      <td>-0.107580</td>\n",
       "    </tr>\n",
       "    <tr>\n",
       "      <th>workclass_ Never-worked</th>\n",
       "      <td>-0.109019</td>\n",
       "    </tr>\n",
       "    <tr>\n",
       "      <th>education level_graduate</th>\n",
       "      <td>-0.179785</td>\n",
       "    </tr>\n",
       "    <tr>\n",
       "      <th>workclass_ ?</th>\n",
       "      <td>-0.204467</td>\n",
       "    </tr>\n",
       "    <tr>\n",
       "      <th>relationship_ Husband</th>\n",
       "      <td>-0.208284</td>\n",
       "    </tr>\n",
       "    <tr>\n",
       "      <th>education level_college</th>\n",
       "      <td>-0.219299</td>\n",
       "    </tr>\n",
       "    <tr>\n",
       "      <th>workclass_ State-gov</th>\n",
       "      <td>-0.228427</td>\n",
       "    </tr>\n",
       "    <tr>\n",
       "      <th>occupation_ Machine-op-inspct</th>\n",
       "      <td>-0.233548</td>\n",
       "    </tr>\n",
       "    <tr>\n",
       "      <th>education level_pre highschool</th>\n",
       "      <td>-0.249046</td>\n",
       "    </tr>\n",
       "    <tr>\n",
       "      <th>occupation_ Armed-Forces</th>\n",
       "      <td>-0.259663</td>\n",
       "    </tr>\n",
       "    <tr>\n",
       "      <th>education level_highschool</th>\n",
       "      <td>-0.264016</td>\n",
       "    </tr>\n",
       "    <tr>\n",
       "      <th>occupation_ ?</th>\n",
       "      <td>-0.313486</td>\n",
       "    </tr>\n",
       "    <tr>\n",
       "      <th>workclass_ Self-emp-not-inc</th>\n",
       "      <td>-0.420126</td>\n",
       "    </tr>\n",
       "    <tr>\n",
       "      <th>race_ Other</th>\n",
       "      <td>-0.451141</td>\n",
       "    </tr>\n",
       "    <tr>\n",
       "      <th>marital-status_ Widowed</th>\n",
       "      <td>-0.458455</td>\n",
       "    </tr>\n",
       "    <tr>\n",
       "      <th>race_ Amer-Indian-Eskimo</th>\n",
       "      <td>-0.467149</td>\n",
       "    </tr>\n",
       "    <tr>\n",
       "      <th>marital-status_ Divorced</th>\n",
       "      <td>-0.549329</td>\n",
       "    </tr>\n",
       "    <tr>\n",
       "      <th>occupation_ Handlers-cleaners</th>\n",
       "      <td>-0.655214</td>\n",
       "    </tr>\n",
       "    <tr>\n",
       "      <th>marital-status_ Separated</th>\n",
       "      <td>-0.666066</td>\n",
       "    </tr>\n",
       "    <tr>\n",
       "      <th>marital-status_ Married-spouse-absent</th>\n",
       "      <td>-0.701598</td>\n",
       "    </tr>\n",
       "    <tr>\n",
       "      <th>relationship_ Other-relative</th>\n",
       "      <td>-0.704117</td>\n",
       "    </tr>\n",
       "    <tr>\n",
       "      <th>occupation_ Farming-fishing</th>\n",
       "      <td>-0.708518</td>\n",
       "    </tr>\n",
       "    <tr>\n",
       "      <th>occupation_ Other-service</th>\n",
       "      <td>-0.835436</td>\n",
       "    </tr>\n",
       "    <tr>\n",
       "      <th>sex_ Female</th>\n",
       "      <td>-0.852329</td>\n",
       "    </tr>\n",
       "    <tr>\n",
       "      <th>workclass_ Without-pay</th>\n",
       "      <td>-0.936667</td>\n",
       "    </tr>\n",
       "    <tr>\n",
       "      <th>marital-status_ Never-married</th>\n",
       "      <td>-0.970484</td>\n",
       "    </tr>\n",
       "    <tr>\n",
       "      <th>relationship_ Own-child</th>\n",
       "      <td>-1.090394</td>\n",
       "    </tr>\n",
       "    <tr>\n",
       "      <th>occupation_ Priv-house-serv</th>\n",
       "      <td>-1.167799</td>\n",
       "    </tr>\n",
       "  </tbody>\n",
       "</table>\n",
       "</div>"
      ],
      "text/plain": [
       "                                        Coefficients\n",
       " marital-status_ Married-civ-spouse         1.306426\n",
       " marital-status_ Married-AF-spouse          1.127361\n",
       " relationship_ Wife                         1.116065\n",
       " occupation_ Exec-managerial                0.862346\n",
       " education-num                              0.721626\n",
       " workclass_ Federal-gov                     0.619780\n",
       " occupation_ Prof-specialty                 0.618842\n",
       " occupation_ Tech-support                   0.617897\n",
       " occupation_ Protective-serv                0.593171\n",
       " new_capital_gain                           0.482754\n",
       " hours-per-week                             0.375500\n",
       "age                                         0.367258\n",
       " occupation_ Sales                          0.356557\n",
       " workclass_ Self-emp-inc                    0.317251\n",
       " new_capital_loss                           0.233288\n",
       " occupation_ Craft-repair                   0.150657\n",
       " workclass_ Private                         0.140779\n",
       " race_ White                                0.111013\n",
       " relationship_ Not-in-family                0.082164\n",
       " fnlwgt                                     0.060502\n",
       " occupation_ Adm-clerical                   0.031347\n",
       " occupation_ Transport-moving               0.030703\n",
       " race_ Asian-Pac-Islander                  -0.044910\n",
       " sex_ Male                                 -0.059816\n",
       " race_ Black                               -0.059958\n",
       " workclass_ Local-gov                      -0.091249\n",
       " relationship_ Unmarried                   -0.107580\n",
       " workclass_ Never-worked                   -0.109019\n",
       " education level_graduate                  -0.179785\n",
       " workclass_ ?                              -0.204467\n",
       " relationship_ Husband                     -0.208284\n",
       " education level_college                   -0.219299\n",
       " workclass_ State-gov                      -0.228427\n",
       " occupation_ Machine-op-inspct             -0.233548\n",
       " education level_pre highschool            -0.249046\n",
       " occupation_ Armed-Forces                  -0.259663\n",
       " education level_highschool                -0.264016\n",
       " occupation_ ?                             -0.313486\n",
       " workclass_ Self-emp-not-inc               -0.420126\n",
       " race_ Other                               -0.451141\n",
       " marital-status_ Widowed                   -0.458455\n",
       " race_ Amer-Indian-Eskimo                  -0.467149\n",
       " marital-status_ Divorced                  -0.549329\n",
       " occupation_ Handlers-cleaners             -0.655214\n",
       " marital-status_ Separated                 -0.666066\n",
       " marital-status_ Married-spouse-absent     -0.701598\n",
       " relationship_ Other-relative              -0.704117\n",
       " occupation_ Farming-fishing               -0.708518\n",
       " occupation_ Other-service                 -0.835436\n",
       " sex_ Female                               -0.852329\n",
       " workclass_ Without-pay                    -0.936667\n",
       " marital-status_ Never-married             -0.970484\n",
       " relationship_ Own-child                   -1.090394\n",
       " occupation_ Priv-house-serv               -1.167799"
      ]
     },
     "execution_count": 36,
     "metadata": {},
     "output_type": "execute_result"
    }
   ],
   "source": [
    "pd.DataFrame((logisticRegr.coef_).reshape(-1,1), index=x_test2.columns, columns=['Coefficients']).sort_values('Coefficients', ascending=False)\n"
   ]
  },
  {
   "cell_type": "markdown",
   "id": "alpine-necklace",
   "metadata": {},
   "source": [
    "Hyperparameter for sklearn.linear_model import LogisticRegression:\n",
    "\n",
    "1. solver: optimization algorithm\n",
    "\n",
    "For small datasets, ‘liblinear’ is a good choice, whereas ‘sag’ and ‘saga’ are faster for large ones.\n",
    "\n",
    "For multiclass problems, only ‘newton-cg’, ‘sag’, ‘saga’ and ‘lbfgs’ handle multinomial loss; ‘liblinear’ is limited to one-versus-rest schemes.\n",
    "\n",
    "‘newton-cg’, ‘lbfgs’, ‘sag’ and ‘saga’ handle L2 or no penalty\n",
    "\n",
    "‘liblinear’ and ‘saga’ also handle L1 penalty\n",
    "\n",
    "‘saga’ also supports ‘elasticnet’ penalty\n",
    "\n",
    "‘liblinear’ does not support setting penalty='none'\n",
    "\n",
    "The default solver we are using is \"lbfgs\". According to the dataset and the solvers' feature, we can also try \"Liblinear\".\n",
    "\n",
    "2. penalty: regularization \n",
    "\n",
    "{‘l1’, ‘l2’, ‘elasticnet’, ‘none’}, default=’l2’. Let's try l1 since the features number is high and some of them have small weights\n",
    "\n",
    "3. class_weight\n",
    "\n",
    "default = none means each sample weigh equally. We can try \"balanced\" to let the learner emphasis on the miniority class. The “balanced” mode uses the values of y to automatically adjust weights inversely proportional to class frequencies in the input data as n_samples / (n_classes * np.bincount(y))."
   ]
  },
  {
   "cell_type": "code",
   "execution_count": 37,
   "id": "vulnerable-central",
   "metadata": {},
   "outputs": [
    {
     "data": {
      "text/plain": [
       "LogisticRegression(class_weight='balanced', penalty='l1', solver='liblinear')"
      ]
     },
     "execution_count": 37,
     "metadata": {},
     "output_type": "execute_result"
    }
   ],
   "source": [
    "logisticRegr2 = LogisticRegression(solver='liblinear', class_weight='balanced', penalty='l1')\n",
    "logisticRegr2.fit(x_train2, y_train)"
   ]
  },
  {
   "cell_type": "code",
   "execution_count": 38,
   "id": "intermediate-snowboard",
   "metadata": {},
   "outputs": [
    {
     "name": "stdout",
     "output_type": "stream",
     "text": [
      "Accuracy: 0.8024812676575359\n",
      "Classification report:\n",
      "               precision    recall  f1-score   support\n",
      "\n",
      "       <=50K       0.94      0.79      0.86      6205\n",
      "        >50K       0.56      0.84      0.67      1936\n",
      "\n",
      "    accuracy                           0.80      8141\n",
      "   macro avg       0.75      0.82      0.76      8141\n",
      "weighted avg       0.85      0.80      0.81      8141\n",
      "\n",
      "Confusion Matrix:\n",
      " [[4907 1298]\n",
      " [ 310 1626]]\n"
     ]
    }
   ],
   "source": [
    "y_predicted_lr = logisticRegr2.predict(x_test2)\n",
    "result(y_test, y_predicted_lr)"
   ]
  },
  {
   "cell_type": "markdown",
   "id": "alone-leone",
   "metadata": {},
   "source": [
    "From the result we see, the general accuracy decrease by 0.04 while the recall for minority class has a significant increasement. This is because we balanced the class weight and the predictor now more tend to decide a sample as >50k. To confirm this we remove the hyperparameter of class_weight."
   ]
  },
  {
   "cell_type": "code",
   "execution_count": 39,
   "id": "twenty-commander",
   "metadata": {},
   "outputs": [
    {
     "data": {
      "text/plain": [
       "LogisticRegression(penalty='l1', solver='liblinear')"
      ]
     },
     "execution_count": 39,
     "metadata": {},
     "output_type": "execute_result"
    }
   ],
   "source": [
    "logisticRegr2 = LogisticRegression(solver='liblinear', penalty='l1')\n",
    "logisticRegr2.fit(x_train2, y_train)"
   ]
  },
  {
   "cell_type": "code",
   "execution_count": 40,
   "id": "specialized-inquiry",
   "metadata": {},
   "outputs": [
    {
     "name": "stdout",
     "output_type": "stream",
     "text": [
      "Accuracy: 0.8459648691806904\n",
      "Classification report:\n",
      "               precision    recall  f1-score   support\n",
      "\n",
      "       <=50K       0.88      0.93      0.90      6205\n",
      "        >50K       0.72      0.58      0.64      1936\n",
      "\n",
      "    accuracy                           0.85      8141\n",
      "   macro avg       0.80      0.76      0.77      8141\n",
      "weighted avg       0.84      0.85      0.84      8141\n",
      "\n",
      "Confusion Matrix:\n",
      " [[5757  448]\n",
      " [ 806 1130]]\n"
     ]
    }
   ],
   "source": [
    "y_predicted_lr = logisticRegr2.predict(x_test2)\n",
    "result(y_test, y_predicted_lr)"
   ]
  },
  {
   "cell_type": "markdown",
   "id": "distinct-religious",
   "metadata": {},
   "source": [
    "The result confirms our previous thought, which is very close to the default setting. It means, the change of regularization type and solver type didn't change too much of the prediction. \n",
    "\n",
    "Another exploration, try a higher penalty strength and lower penalty"
   ]
  },
  {
   "cell_type": "code",
   "execution_count": 41,
   "id": "going-observer",
   "metadata": {},
   "outputs": [
    {
     "data": {
      "text/plain": [
       "LogisticRegression(C=10, penalty='l1', solver='liblinear')"
      ]
     },
     "execution_count": 41,
     "metadata": {},
     "output_type": "execute_result"
    }
   ],
   "source": [
    "logisticRegr2 = LogisticRegression(solver='liblinear', penalty='l1', C=10)\n",
    "logisticRegr2.fit(x_train2, y_train)"
   ]
  },
  {
   "cell_type": "code",
   "execution_count": 42,
   "id": "occupied-efficiency",
   "metadata": {},
   "outputs": [
    {
     "name": "stdout",
     "output_type": "stream",
     "text": [
      "Accuracy: 0.8454735290504852\n",
      "Classification report:\n",
      "               precision    recall  f1-score   support\n",
      "\n",
      "       <=50K       0.88      0.93      0.90      6205\n",
      "        >50K       0.71      0.58      0.64      1936\n",
      "\n",
      "    accuracy                           0.85      8141\n",
      "   macro avg       0.80      0.76      0.77      8141\n",
      "weighted avg       0.84      0.85      0.84      8141\n",
      "\n",
      "Confusion Matrix:\n",
      " [[5754  451]\n",
      " [ 807 1129]]\n"
     ]
    }
   ],
   "source": [
    "y_predicted_lr = logisticRegr2.predict(x_test2)\n",
    "result(y_test, y_predicted_lr)"
   ]
  },
  {
   "cell_type": "code",
   "execution_count": 43,
   "id": "advisory-benjamin",
   "metadata": {},
   "outputs": [
    {
     "data": {
      "text/html": [
       "<div>\n",
       "<style scoped>\n",
       "    .dataframe tbody tr th:only-of-type {\n",
       "        vertical-align: middle;\n",
       "    }\n",
       "\n",
       "    .dataframe tbody tr th {\n",
       "        vertical-align: top;\n",
       "    }\n",
       "\n",
       "    .dataframe thead th {\n",
       "        text-align: right;\n",
       "    }\n",
       "</style>\n",
       "<table border=\"1\" class=\"dataframe\">\n",
       "  <thead>\n",
       "    <tr style=\"text-align: right;\">\n",
       "      <th></th>\n",
       "      <th>Coefficients</th>\n",
       "    </tr>\n",
       "  </thead>\n",
       "  <tbody>\n",
       "    <tr>\n",
       "      <th>marital-status_ Married-civ-spouse</th>\n",
       "      <td>1.306426</td>\n",
       "    </tr>\n",
       "    <tr>\n",
       "      <th>marital-status_ Married-AF-spouse</th>\n",
       "      <td>1.127361</td>\n",
       "    </tr>\n",
       "    <tr>\n",
       "      <th>relationship_ Wife</th>\n",
       "      <td>1.116065</td>\n",
       "    </tr>\n",
       "    <tr>\n",
       "      <th>occupation_ Exec-managerial</th>\n",
       "      <td>0.862346</td>\n",
       "    </tr>\n",
       "    <tr>\n",
       "      <th>education-num</th>\n",
       "      <td>0.721626</td>\n",
       "    </tr>\n",
       "    <tr>\n",
       "      <th>workclass_ Federal-gov</th>\n",
       "      <td>0.619780</td>\n",
       "    </tr>\n",
       "    <tr>\n",
       "      <th>occupation_ Prof-specialty</th>\n",
       "      <td>0.618842</td>\n",
       "    </tr>\n",
       "    <tr>\n",
       "      <th>occupation_ Tech-support</th>\n",
       "      <td>0.617897</td>\n",
       "    </tr>\n",
       "    <tr>\n",
       "      <th>occupation_ Protective-serv</th>\n",
       "      <td>0.593171</td>\n",
       "    </tr>\n",
       "    <tr>\n",
       "      <th>new_capital_gain</th>\n",
       "      <td>0.482754</td>\n",
       "    </tr>\n",
       "    <tr>\n",
       "      <th>hours-per-week</th>\n",
       "      <td>0.375500</td>\n",
       "    </tr>\n",
       "    <tr>\n",
       "      <th>age</th>\n",
       "      <td>0.367258</td>\n",
       "    </tr>\n",
       "    <tr>\n",
       "      <th>occupation_ Sales</th>\n",
       "      <td>0.356557</td>\n",
       "    </tr>\n",
       "    <tr>\n",
       "      <th>workclass_ Self-emp-inc</th>\n",
       "      <td>0.317251</td>\n",
       "    </tr>\n",
       "    <tr>\n",
       "      <th>new_capital_loss</th>\n",
       "      <td>0.233288</td>\n",
       "    </tr>\n",
       "    <tr>\n",
       "      <th>occupation_ Craft-repair</th>\n",
       "      <td>0.150657</td>\n",
       "    </tr>\n",
       "    <tr>\n",
       "      <th>workclass_ Private</th>\n",
       "      <td>0.140779</td>\n",
       "    </tr>\n",
       "    <tr>\n",
       "      <th>race_ White</th>\n",
       "      <td>0.111013</td>\n",
       "    </tr>\n",
       "    <tr>\n",
       "      <th>relationship_ Not-in-family</th>\n",
       "      <td>0.082164</td>\n",
       "    </tr>\n",
       "    <tr>\n",
       "      <th>fnlwgt</th>\n",
       "      <td>0.060502</td>\n",
       "    </tr>\n",
       "    <tr>\n",
       "      <th>occupation_ Adm-clerical</th>\n",
       "      <td>0.031347</td>\n",
       "    </tr>\n",
       "    <tr>\n",
       "      <th>occupation_ Transport-moving</th>\n",
       "      <td>0.030703</td>\n",
       "    </tr>\n",
       "    <tr>\n",
       "      <th>race_ Asian-Pac-Islander</th>\n",
       "      <td>-0.044910</td>\n",
       "    </tr>\n",
       "    <tr>\n",
       "      <th>sex_ Male</th>\n",
       "      <td>-0.059816</td>\n",
       "    </tr>\n",
       "    <tr>\n",
       "      <th>race_ Black</th>\n",
       "      <td>-0.059958</td>\n",
       "    </tr>\n",
       "    <tr>\n",
       "      <th>workclass_ Local-gov</th>\n",
       "      <td>-0.091249</td>\n",
       "    </tr>\n",
       "    <tr>\n",
       "      <th>relationship_ Unmarried</th>\n",
       "      <td>-0.107580</td>\n",
       "    </tr>\n",
       "    <tr>\n",
       "      <th>workclass_ Never-worked</th>\n",
       "      <td>-0.109019</td>\n",
       "    </tr>\n",
       "    <tr>\n",
       "      <th>education level_graduate</th>\n",
       "      <td>-0.179785</td>\n",
       "    </tr>\n",
       "    <tr>\n",
       "      <th>workclass_ ?</th>\n",
       "      <td>-0.204467</td>\n",
       "    </tr>\n",
       "    <tr>\n",
       "      <th>relationship_ Husband</th>\n",
       "      <td>-0.208284</td>\n",
       "    </tr>\n",
       "    <tr>\n",
       "      <th>education level_college</th>\n",
       "      <td>-0.219299</td>\n",
       "    </tr>\n",
       "    <tr>\n",
       "      <th>workclass_ State-gov</th>\n",
       "      <td>-0.228427</td>\n",
       "    </tr>\n",
       "    <tr>\n",
       "      <th>occupation_ Machine-op-inspct</th>\n",
       "      <td>-0.233548</td>\n",
       "    </tr>\n",
       "    <tr>\n",
       "      <th>education level_pre highschool</th>\n",
       "      <td>-0.249046</td>\n",
       "    </tr>\n",
       "    <tr>\n",
       "      <th>occupation_ Armed-Forces</th>\n",
       "      <td>-0.259663</td>\n",
       "    </tr>\n",
       "    <tr>\n",
       "      <th>education level_highschool</th>\n",
       "      <td>-0.264016</td>\n",
       "    </tr>\n",
       "    <tr>\n",
       "      <th>occupation_ ?</th>\n",
       "      <td>-0.313486</td>\n",
       "    </tr>\n",
       "    <tr>\n",
       "      <th>workclass_ Self-emp-not-inc</th>\n",
       "      <td>-0.420126</td>\n",
       "    </tr>\n",
       "    <tr>\n",
       "      <th>race_ Other</th>\n",
       "      <td>-0.451141</td>\n",
       "    </tr>\n",
       "    <tr>\n",
       "      <th>marital-status_ Widowed</th>\n",
       "      <td>-0.458455</td>\n",
       "    </tr>\n",
       "    <tr>\n",
       "      <th>race_ Amer-Indian-Eskimo</th>\n",
       "      <td>-0.467149</td>\n",
       "    </tr>\n",
       "    <tr>\n",
       "      <th>marital-status_ Divorced</th>\n",
       "      <td>-0.549329</td>\n",
       "    </tr>\n",
       "    <tr>\n",
       "      <th>occupation_ Handlers-cleaners</th>\n",
       "      <td>-0.655214</td>\n",
       "    </tr>\n",
       "    <tr>\n",
       "      <th>marital-status_ Separated</th>\n",
       "      <td>-0.666066</td>\n",
       "    </tr>\n",
       "    <tr>\n",
       "      <th>marital-status_ Married-spouse-absent</th>\n",
       "      <td>-0.701598</td>\n",
       "    </tr>\n",
       "    <tr>\n",
       "      <th>relationship_ Other-relative</th>\n",
       "      <td>-0.704117</td>\n",
       "    </tr>\n",
       "    <tr>\n",
       "      <th>occupation_ Farming-fishing</th>\n",
       "      <td>-0.708518</td>\n",
       "    </tr>\n",
       "    <tr>\n",
       "      <th>occupation_ Other-service</th>\n",
       "      <td>-0.835436</td>\n",
       "    </tr>\n",
       "    <tr>\n",
       "      <th>sex_ Female</th>\n",
       "      <td>-0.852329</td>\n",
       "    </tr>\n",
       "    <tr>\n",
       "      <th>workclass_ Without-pay</th>\n",
       "      <td>-0.936667</td>\n",
       "    </tr>\n",
       "    <tr>\n",
       "      <th>marital-status_ Never-married</th>\n",
       "      <td>-0.970484</td>\n",
       "    </tr>\n",
       "    <tr>\n",
       "      <th>relationship_ Own-child</th>\n",
       "      <td>-1.090394</td>\n",
       "    </tr>\n",
       "    <tr>\n",
       "      <th>occupation_ Priv-house-serv</th>\n",
       "      <td>-1.167799</td>\n",
       "    </tr>\n",
       "  </tbody>\n",
       "</table>\n",
       "</div>"
      ],
      "text/plain": [
       "                                        Coefficients\n",
       " marital-status_ Married-civ-spouse         1.306426\n",
       " marital-status_ Married-AF-spouse          1.127361\n",
       " relationship_ Wife                         1.116065\n",
       " occupation_ Exec-managerial                0.862346\n",
       " education-num                              0.721626\n",
       " workclass_ Federal-gov                     0.619780\n",
       " occupation_ Prof-specialty                 0.618842\n",
       " occupation_ Tech-support                   0.617897\n",
       " occupation_ Protective-serv                0.593171\n",
       " new_capital_gain                           0.482754\n",
       " hours-per-week                             0.375500\n",
       "age                                         0.367258\n",
       " occupation_ Sales                          0.356557\n",
       " workclass_ Self-emp-inc                    0.317251\n",
       " new_capital_loss                           0.233288\n",
       " occupation_ Craft-repair                   0.150657\n",
       " workclass_ Private                         0.140779\n",
       " race_ White                                0.111013\n",
       " relationship_ Not-in-family                0.082164\n",
       " fnlwgt                                     0.060502\n",
       " occupation_ Adm-clerical                   0.031347\n",
       " occupation_ Transport-moving               0.030703\n",
       " race_ Asian-Pac-Islander                  -0.044910\n",
       " sex_ Male                                 -0.059816\n",
       " race_ Black                               -0.059958\n",
       " workclass_ Local-gov                      -0.091249\n",
       " relationship_ Unmarried                   -0.107580\n",
       " workclass_ Never-worked                   -0.109019\n",
       " education level_graduate                  -0.179785\n",
       " workclass_ ?                              -0.204467\n",
       " relationship_ Husband                     -0.208284\n",
       " education level_college                   -0.219299\n",
       " workclass_ State-gov                      -0.228427\n",
       " occupation_ Machine-op-inspct             -0.233548\n",
       " education level_pre highschool            -0.249046\n",
       " occupation_ Armed-Forces                  -0.259663\n",
       " education level_highschool                -0.264016\n",
       " occupation_ ?                             -0.313486\n",
       " workclass_ Self-emp-not-inc               -0.420126\n",
       " race_ Other                               -0.451141\n",
       " marital-status_ Widowed                   -0.458455\n",
       " race_ Amer-Indian-Eskimo                  -0.467149\n",
       " marital-status_ Divorced                  -0.549329\n",
       " occupation_ Handlers-cleaners             -0.655214\n",
       " marital-status_ Separated                 -0.666066\n",
       " marital-status_ Married-spouse-absent     -0.701598\n",
       " relationship_ Other-relative              -0.704117\n",
       " occupation_ Farming-fishing               -0.708518\n",
       " occupation_ Other-service                 -0.835436\n",
       " sex_ Female                               -0.852329\n",
       " workclass_ Without-pay                    -0.936667\n",
       " marital-status_ Never-married             -0.970484\n",
       " relationship_ Own-child                   -1.090394\n",
       " occupation_ Priv-house-serv               -1.167799"
      ]
     },
     "execution_count": 43,
     "metadata": {},
     "output_type": "execute_result"
    }
   ],
   "source": [
    "pd.DataFrame((logisticRegr.coef_).reshape(-1,1), index=x_test2.columns, columns=['Coefficients']).sort_values('Coefficients', ascending=False)"
   ]
  },
  {
   "cell_type": "markdown",
   "id": "involved-corps",
   "metadata": {},
   "source": [
    "We tried a differnt C, looks that strength of regularization in this case doesn't matter so much to the prediction.\n",
    "\n",
    "Finially we take the logitic regression with libLinear solver and l1 regularization."
   ]
  },
  {
   "cell_type": "markdown",
   "id": "criminal-latest",
   "metadata": {},
   "source": [
    "### SVM"
   ]
  },
  {
   "cell_type": "code",
   "execution_count": 44,
   "id": "pursuant-france",
   "metadata": {},
   "outputs": [],
   "source": [
    "from sklearn.svm import SVC"
   ]
  },
  {
   "cell_type": "code",
   "execution_count": 45,
   "id": "structural-privacy",
   "metadata": {},
   "outputs": [
    {
     "data": {
      "text/plain": [
       "SVC()"
      ]
     },
     "execution_count": 45,
     "metadata": {},
     "output_type": "execute_result"
    }
   ],
   "source": [
    "SVMmodel = SVC()\n",
    "SVMmodel.fit(x_train2, y_train)"
   ]
  },
  {
   "cell_type": "code",
   "execution_count": 46,
   "id": "otherwise-knock",
   "metadata": {},
   "outputs": [
    {
     "name": "stdout",
     "output_type": "stream",
     "text": [
      "Accuracy: 0.8508782704827417\n",
      "Classification report:\n",
      "               precision    recall  f1-score   support\n",
      "\n",
      "       <=50K       0.88      0.94      0.91      6205\n",
      "        >50K       0.74      0.58      0.65      1936\n",
      "\n",
      "    accuracy                           0.85      8141\n",
      "   macro avg       0.81      0.76      0.78      8141\n",
      "weighted avg       0.84      0.85      0.84      8141\n",
      "\n",
      "Confusion Matrix:\n",
      " [[5807  398]\n",
      " [ 816 1120]]\n"
     ]
    }
   ],
   "source": [
    "y_predicted_svm = SVMmodel.predict(x_test2)\n",
    "result(y_test, y_predicted_svm)"
   ]
  },
  {
   "cell_type": "markdown",
   "id": "organized-shareware",
   "metadata": {},
   "source": [
    "SVM hyperparameter adjustment:\n",
    "\n",
    "SVM hyperparameter are mostly kernal related. The default kernel we use is rbf and seems the prediction is not so good. Let's try each of the other selections."
   ]
  },
  {
   "cell_type": "code",
   "execution_count": 47,
   "id": "rental-resident",
   "metadata": {},
   "outputs": [
    {
     "data": {
      "text/plain": [
       "SVC(kernel='poly')"
      ]
     },
     "execution_count": 47,
     "metadata": {},
     "output_type": "execute_result"
    }
   ],
   "source": [
    "SVMmodel2 = SVC(kernel='poly')\n",
    "SVMmodel2.fit(x_train2, y_train)"
   ]
  },
  {
   "cell_type": "code",
   "execution_count": 48,
   "id": "blind-adelaide",
   "metadata": {},
   "outputs": [
    {
     "name": "stdout",
     "output_type": "stream",
     "text": [
      "Accuracy: 0.849281415059575\n",
      "Classification report:\n",
      "               precision    recall  f1-score   support\n",
      "\n",
      "       <=50K       0.88      0.94      0.90      6205\n",
      "        >50K       0.73      0.57      0.64      1936\n",
      "\n",
      "    accuracy                           0.85      8141\n",
      "   macro avg       0.80      0.75      0.77      8141\n",
      "weighted avg       0.84      0.85      0.84      8141\n",
      "\n",
      "Confusion Matrix:\n",
      " [[5802  403]\n",
      " [ 824 1112]]\n"
     ]
    }
   ],
   "source": [
    "y_predicted_svm = SVMmodel2.predict(x_test2)\n",
    "result(y_test, y_predicted_svm)"
   ]
  },
  {
   "cell_type": "code",
   "execution_count": 49,
   "id": "governing-russia",
   "metadata": {},
   "outputs": [
    {
     "data": {
      "text/plain": [
       "SVC(kernel='linear')"
      ]
     },
     "execution_count": 49,
     "metadata": {},
     "output_type": "execute_result"
    }
   ],
   "source": [
    "SVMmodel2 = SVC(kernel='linear')\n",
    "SVMmodel2.fit(x_train2, y_train)"
   ]
  },
  {
   "cell_type": "code",
   "execution_count": 50,
   "id": "exceptional-pointer",
   "metadata": {},
   "outputs": [
    {
     "name": "stdout",
     "output_type": "stream",
     "text": [
      "Accuracy: 0.8476845596364083\n",
      "Classification report:\n",
      "               precision    recall  f1-score   support\n",
      "\n",
      "       <=50K       0.88      0.93      0.90      6205\n",
      "        >50K       0.72      0.59      0.65      1936\n",
      "\n",
      "    accuracy                           0.85      8141\n",
      "   macro avg       0.80      0.76      0.77      8141\n",
      "weighted avg       0.84      0.85      0.84      8141\n",
      "\n",
      "Confusion Matrix:\n",
      " [[5766  439]\n",
      " [ 801 1135]]\n"
     ]
    }
   ],
   "source": [
    "y_predicted_svm = SVMmodel2.predict(x_test2)\n",
    "result(y_test, y_predicted_svm)"
   ]
  },
  {
   "cell_type": "code",
   "execution_count": 51,
   "id": "portable-sheriff",
   "metadata": {},
   "outputs": [
    {
     "data": {
      "text/plain": [
       "SVC(kernel='sigmoid')"
      ]
     },
     "execution_count": 51,
     "metadata": {},
     "output_type": "execute_result"
    }
   ],
   "source": [
    "SVMmodel2 = SVC(kernel='sigmoid')\n",
    "SVMmodel2.fit(x_train2, y_train)"
   ]
  },
  {
   "cell_type": "code",
   "execution_count": 52,
   "id": "herbal-bible",
   "metadata": {},
   "outputs": [
    {
     "name": "stdout",
     "output_type": "stream",
     "text": [
      "Accuracy: 0.7591205011669329\n",
      "Classification report:\n",
      "               precision    recall  f1-score   support\n",
      "\n",
      "       <=50K       0.84      0.84      0.84      6205\n",
      "        >50K       0.49      0.49      0.49      1936\n",
      "\n",
      "    accuracy                           0.76      8141\n",
      "   macro avg       0.67      0.67      0.67      8141\n",
      "weighted avg       0.76      0.76      0.76      8141\n",
      "\n",
      "Confusion Matrix:\n",
      " [[5237  968]\n",
      " [ 993  943]]\n"
     ]
    }
   ],
   "source": [
    "y_predicted_svm = SVMmodel2.predict(x_test2)\n",
    "result(y_test, y_predicted_svm)"
   ]
  },
  {
   "cell_type": "markdown",
   "id": "wired-efficiency",
   "metadata": {},
   "source": [
    "Seems the change of kernel didn't help to imporve the model's performance. Continue research on other hyperparameter inside the domain of rbf kernel"
   ]
  },
  {
   "cell_type": "code",
   "execution_count": 53,
   "id": "fluid-madonna",
   "metadata": {},
   "outputs": [
    {
     "data": {
      "text/plain": [
       "SVC(gamma='auto')"
      ]
     },
     "execution_count": 53,
     "metadata": {},
     "output_type": "execute_result"
    }
   ],
   "source": [
    "SVMmodel2 = SVC(gamma='auto')\n",
    "SVMmodel2.fit(x_train2, y_train)"
   ]
  },
  {
   "cell_type": "code",
   "execution_count": 54,
   "id": "central-stocks",
   "metadata": {},
   "outputs": [
    {
     "name": "stdout",
     "output_type": "stream",
     "text": [
      "Accuracy: 0.8490357449944724\n",
      "Classification report:\n",
      "               precision    recall  f1-score   support\n",
      "\n",
      "       <=50K       0.88      0.93      0.90      6205\n",
      "        >50K       0.73      0.58      0.65      1936\n",
      "\n",
      "    accuracy                           0.85      8141\n",
      "   macro avg       0.80      0.76      0.77      8141\n",
      "weighted avg       0.84      0.85      0.84      8141\n",
      "\n",
      "Confusion Matrix:\n",
      " [[5793  412]\n",
      " [ 817 1119]]\n"
     ]
    }
   ],
   "source": [
    "y_predicted_svm = SVMmodel2.predict(x_test2)\n",
    "result(y_test, y_predicted_svm)"
   ]
  },
  {
   "cell_type": "markdown",
   "id": "bottom-charleston",
   "metadata": {},
   "source": [
    "### Naive Bayes"
   ]
  },
  {
   "cell_type": "code",
   "execution_count": 55,
   "id": "injured-thread",
   "metadata": {},
   "outputs": [
    {
     "data": {
      "text/plain": [
       "GaussianNB()"
      ]
     },
     "execution_count": 55,
     "metadata": {},
     "output_type": "execute_result"
    }
   ],
   "source": [
    "from sklearn.naive_bayes import GaussianNB\n",
    "GNBmodel = GaussianNB()\n",
    "GNBmodel.fit(x_train2, y_train)"
   ]
  },
  {
   "cell_type": "code",
   "execution_count": 56,
   "id": "ceramic-committee",
   "metadata": {},
   "outputs": [
    {
     "name": "stdout",
     "output_type": "stream",
     "text": [
      "Accuracy: 0.6373909839086107\n",
      "Classification report:\n",
      "               precision    recall  f1-score   support\n",
      "\n",
      "       <=50K       0.96      0.55      0.70      6205\n",
      "        >50K       0.39      0.92      0.55      1936\n",
      "\n",
      "    accuracy                           0.64      8141\n",
      "   macro avg       0.67      0.73      0.62      8141\n",
      "weighted avg       0.82      0.64      0.66      8141\n",
      "\n",
      "Confusion Matrix:\n",
      " [[3410 2795]\n",
      " [ 157 1779]]\n"
     ]
    }
   ],
   "source": [
    "y_predicted_gnb = GNBmodel.predict(x_test2)\n",
    "result(y_test, y_predicted_gnb)"
   ]
  },
  {
   "cell_type": "markdown",
   "id": "composite-hybrid",
   "metadata": {},
   "source": [
    "Naive Bayes is a naive classification algorithm and it has no hyperparameter to adjust because it based on the assumption that each feature obeys Gaussian distribution and is independent to each other. "
   ]
  },
  {
   "cell_type": "markdown",
   "id": "received-breakdown",
   "metadata": {},
   "source": [
    "### KNN"
   ]
  },
  {
   "cell_type": "code",
   "execution_count": 57,
   "id": "linear-corruption",
   "metadata": {},
   "outputs": [
    {
     "data": {
      "text/plain": [
       "KNeighborsClassifier()"
      ]
     },
     "execution_count": 57,
     "metadata": {},
     "output_type": "execute_result"
    }
   ],
   "source": [
    "from sklearn import neighbors\n",
    "KNNmodel = neighbors.KNeighborsClassifier(n_neighbors=5)\n",
    "KNNmodel.fit(x_train2, y_train)"
   ]
  },
  {
   "cell_type": "code",
   "execution_count": 58,
   "id": "great-hungarian",
   "metadata": {},
   "outputs": [
    {
     "name": "stdout",
     "output_type": "stream",
     "text": [
      "Accuracy: 0.8264340990050363\n",
      "Classification report:\n",
      "               precision    recall  f1-score   support\n",
      "\n",
      "       <=50K       0.88      0.90      0.89      6205\n",
      "        >50K       0.64      0.61      0.62      1936\n",
      "\n",
      "    accuracy                           0.83      8141\n",
      "   macro avg       0.76      0.75      0.76      8141\n",
      "weighted avg       0.82      0.83      0.82      8141\n",
      "\n",
      "Confusion Matrix:\n",
      " [[5555  650]\n",
      " [ 763 1173]]\n"
     ]
    }
   ],
   "source": [
    "y_predicted_knn = KNNmodel.predict(x_test2)\n",
    "result(y_test, y_predicted_knn)"
   ]
  },
  {
   "cell_type": "markdown",
   "id": "floppy-mistress",
   "metadata": {},
   "source": [
    "### Decision Trees"
   ]
  },
  {
   "cell_type": "code",
   "execution_count": 59,
   "id": "interesting-rwanda",
   "metadata": {},
   "outputs": [
    {
     "data": {
      "text/plain": [
       "DecisionTreeClassifier(random_state=0)"
      ]
     },
     "execution_count": 59,
     "metadata": {},
     "output_type": "execute_result"
    }
   ],
   "source": [
    "from sklearn.tree import DecisionTreeClassifier\n",
    "DTmodel = DecisionTreeClassifier(random_state=0)\n",
    "DTmodel.fit(x_train2, y_train)"
   ]
  },
  {
   "cell_type": "code",
   "execution_count": 60,
   "id": "humanitarian-standard",
   "metadata": {},
   "outputs": [
    {
     "name": "stdout",
     "output_type": "stream",
     "text": [
      "Accuracy: 0.8100970396757156\n",
      "Classification report:\n",
      "               precision    recall  f1-score   support\n",
      "\n",
      "       <=50K       0.88      0.87      0.88      6205\n",
      "        >50K       0.60      0.60      0.60      1936\n",
      "\n",
      "    accuracy                           0.81      8141\n",
      "   macro avg       0.74      0.74      0.74      8141\n",
      "weighted avg       0.81      0.81      0.81      8141\n",
      "\n",
      "Confusion Matrix:\n",
      " [[5425  780]\n",
      " [ 766 1170]]\n"
     ]
    }
   ],
   "source": [
    "y_predicted_dt = DTmodel.predict(x_test2)\n",
    "result(y_test, y_predicted_dt)"
   ]
  },
  {
   "cell_type": "code",
   "execution_count": 61,
   "id": "greenhouse-galaxy",
   "metadata": {},
   "outputs": [
    {
     "data": {
      "text/html": [
       "<div>\n",
       "<style scoped>\n",
       "    .dataframe tbody tr th:only-of-type {\n",
       "        vertical-align: middle;\n",
       "    }\n",
       "\n",
       "    .dataframe tbody tr th {\n",
       "        vertical-align: top;\n",
       "    }\n",
       "\n",
       "    .dataframe thead th {\n",
       "        text-align: right;\n",
       "    }\n",
       "</style>\n",
       "<table border=\"1\" class=\"dataframe\">\n",
       "  <thead>\n",
       "    <tr style=\"text-align: right;\">\n",
       "      <th></th>\n",
       "      <th>Coefficients</th>\n",
       "    </tr>\n",
       "  </thead>\n",
       "  <tbody>\n",
       "    <tr>\n",
       "      <th>marital-status_ Married-civ-spouse</th>\n",
       "      <td>0.198035</td>\n",
       "    </tr>\n",
       "    <tr>\n",
       "      <th>fnlwgt</th>\n",
       "      <td>0.185939</td>\n",
       "    </tr>\n",
       "    <tr>\n",
       "      <th>age</th>\n",
       "      <td>0.120726</td>\n",
       "    </tr>\n",
       "    <tr>\n",
       "      <th>education-num</th>\n",
       "      <td>0.117578</td>\n",
       "    </tr>\n",
       "    <tr>\n",
       "      <th>new_capital_gain</th>\n",
       "      <td>0.108912</td>\n",
       "    </tr>\n",
       "    <tr>\n",
       "      <th>hours-per-week</th>\n",
       "      <td>0.064138</td>\n",
       "    </tr>\n",
       "    <tr>\n",
       "      <th>new_capital_loss</th>\n",
       "      <td>0.039693</td>\n",
       "    </tr>\n",
       "    <tr>\n",
       "      <th>workclass_ Private</th>\n",
       "      <td>0.011104</td>\n",
       "    </tr>\n",
       "    <tr>\n",
       "      <th>occupation_ Exec-managerial</th>\n",
       "      <td>0.010881</td>\n",
       "    </tr>\n",
       "    <tr>\n",
       "      <th>workclass_ Self-emp-not-inc</th>\n",
       "      <td>0.008773</td>\n",
       "    </tr>\n",
       "    <tr>\n",
       "      <th>occupation_ Sales</th>\n",
       "      <td>0.008590</td>\n",
       "    </tr>\n",
       "    <tr>\n",
       "      <th>occupation_ Craft-repair</th>\n",
       "      <td>0.007693</td>\n",
       "    </tr>\n",
       "    <tr>\n",
       "      <th>occupation_ Prof-specialty</th>\n",
       "      <td>0.007226</td>\n",
       "    </tr>\n",
       "    <tr>\n",
       "      <th>occupation_ Machine-op-inspct</th>\n",
       "      <td>0.005994</td>\n",
       "    </tr>\n",
       "    <tr>\n",
       "      <th>relationship_ Wife</th>\n",
       "      <td>0.005704</td>\n",
       "    </tr>\n",
       "    <tr>\n",
       "      <th>occupation_ Transport-moving</th>\n",
       "      <td>0.005501</td>\n",
       "    </tr>\n",
       "    <tr>\n",
       "      <th>workclass_ Local-gov</th>\n",
       "      <td>0.005445</td>\n",
       "    </tr>\n",
       "    <tr>\n",
       "      <th>workclass_ Self-emp-inc</th>\n",
       "      <td>0.005387</td>\n",
       "    </tr>\n",
       "    <tr>\n",
       "      <th>race_ White</th>\n",
       "      <td>0.005240</td>\n",
       "    </tr>\n",
       "    <tr>\n",
       "      <th>occupation_ Tech-support</th>\n",
       "      <td>0.005124</td>\n",
       "    </tr>\n",
       "    <tr>\n",
       "      <th>occupation_ Adm-clerical</th>\n",
       "      <td>0.004852</td>\n",
       "    </tr>\n",
       "    <tr>\n",
       "      <th>workclass_ Federal-gov</th>\n",
       "      <td>0.004772</td>\n",
       "    </tr>\n",
       "    <tr>\n",
       "      <th>education level_highschool</th>\n",
       "      <td>0.004763</td>\n",
       "    </tr>\n",
       "    <tr>\n",
       "      <th>race_ Black</th>\n",
       "      <td>0.004746</td>\n",
       "    </tr>\n",
       "    <tr>\n",
       "      <th>workclass_ State-gov</th>\n",
       "      <td>0.004051</td>\n",
       "    </tr>\n",
       "    <tr>\n",
       "      <th>marital-status_ Divorced</th>\n",
       "      <td>0.003984</td>\n",
       "    </tr>\n",
       "    <tr>\n",
       "      <th>race_ Asian-Pac-Islander</th>\n",
       "      <td>0.003883</td>\n",
       "    </tr>\n",
       "    <tr>\n",
       "      <th>occupation_ Other-service</th>\n",
       "      <td>0.003704</td>\n",
       "    </tr>\n",
       "    <tr>\n",
       "      <th>occupation_ Protective-serv</th>\n",
       "      <td>0.003701</td>\n",
       "    </tr>\n",
       "    <tr>\n",
       "      <th>occupation_ Farming-fishing</th>\n",
       "      <td>0.003533</td>\n",
       "    </tr>\n",
       "    <tr>\n",
       "      <th>sex_ Male</th>\n",
       "      <td>0.003449</td>\n",
       "    </tr>\n",
       "    <tr>\n",
       "      <th>education level_college</th>\n",
       "      <td>0.003331</td>\n",
       "    </tr>\n",
       "    <tr>\n",
       "      <th>occupation_ Handlers-cleaners</th>\n",
       "      <td>0.003164</td>\n",
       "    </tr>\n",
       "    <tr>\n",
       "      <th>relationship_ Not-in-family</th>\n",
       "      <td>0.002653</td>\n",
       "    </tr>\n",
       "    <tr>\n",
       "      <th>sex_ Female</th>\n",
       "      <td>0.002266</td>\n",
       "    </tr>\n",
       "    <tr>\n",
       "      <th>marital-status_ Never-married</th>\n",
       "      <td>0.002143</td>\n",
       "    </tr>\n",
       "    <tr>\n",
       "      <th>occupation_ ?</th>\n",
       "      <td>0.002087</td>\n",
       "    </tr>\n",
       "    <tr>\n",
       "      <th>education level_graduate</th>\n",
       "      <td>0.001919</td>\n",
       "    </tr>\n",
       "    <tr>\n",
       "      <th>relationship_ Husband</th>\n",
       "      <td>0.001871</td>\n",
       "    </tr>\n",
       "    <tr>\n",
       "      <th>relationship_ Unmarried</th>\n",
       "      <td>0.001692</td>\n",
       "    </tr>\n",
       "    <tr>\n",
       "      <th>marital-status_ Widowed</th>\n",
       "      <td>0.000998</td>\n",
       "    </tr>\n",
       "    <tr>\n",
       "      <th>relationship_ Own-child</th>\n",
       "      <td>0.000964</td>\n",
       "    </tr>\n",
       "    <tr>\n",
       "      <th>race_ Amer-Indian-Eskimo</th>\n",
       "      <td>0.000717</td>\n",
       "    </tr>\n",
       "    <tr>\n",
       "      <th>relationship_ Other-relative</th>\n",
       "      <td>0.000695</td>\n",
       "    </tr>\n",
       "    <tr>\n",
       "      <th>marital-status_ Married-spouse-absent</th>\n",
       "      <td>0.000646</td>\n",
       "    </tr>\n",
       "    <tr>\n",
       "      <th>race_ Other</th>\n",
       "      <td>0.000474</td>\n",
       "    </tr>\n",
       "    <tr>\n",
       "      <th>workclass_ ?</th>\n",
       "      <td>0.000469</td>\n",
       "    </tr>\n",
       "    <tr>\n",
       "      <th>education level_pre highschool</th>\n",
       "      <td>0.000320</td>\n",
       "    </tr>\n",
       "    <tr>\n",
       "      <th>marital-status_ Married-AF-spouse</th>\n",
       "      <td>0.000292</td>\n",
       "    </tr>\n",
       "    <tr>\n",
       "      <th>marital-status_ Separated</th>\n",
       "      <td>0.000180</td>\n",
       "    </tr>\n",
       "    <tr>\n",
       "      <th>workclass_ Without-pay</th>\n",
       "      <td>0.000000</td>\n",
       "    </tr>\n",
       "    <tr>\n",
       "      <th>workclass_ Never-worked</th>\n",
       "      <td>0.000000</td>\n",
       "    </tr>\n",
       "    <tr>\n",
       "      <th>occupation_ Priv-house-serv</th>\n",
       "      <td>0.000000</td>\n",
       "    </tr>\n",
       "    <tr>\n",
       "      <th>occupation_ Armed-Forces</th>\n",
       "      <td>0.000000</td>\n",
       "    </tr>\n",
       "  </tbody>\n",
       "</table>\n",
       "</div>"
      ],
      "text/plain": [
       "                                        Coefficients\n",
       " marital-status_ Married-civ-spouse         0.198035\n",
       " fnlwgt                                     0.185939\n",
       "age                                         0.120726\n",
       " education-num                              0.117578\n",
       " new_capital_gain                           0.108912\n",
       " hours-per-week                             0.064138\n",
       " new_capital_loss                           0.039693\n",
       " workclass_ Private                         0.011104\n",
       " occupation_ Exec-managerial                0.010881\n",
       " workclass_ Self-emp-not-inc                0.008773\n",
       " occupation_ Sales                          0.008590\n",
       " occupation_ Craft-repair                   0.007693\n",
       " occupation_ Prof-specialty                 0.007226\n",
       " occupation_ Machine-op-inspct              0.005994\n",
       " relationship_ Wife                         0.005704\n",
       " occupation_ Transport-moving               0.005501\n",
       " workclass_ Local-gov                       0.005445\n",
       " workclass_ Self-emp-inc                    0.005387\n",
       " race_ White                                0.005240\n",
       " occupation_ Tech-support                   0.005124\n",
       " occupation_ Adm-clerical                   0.004852\n",
       " workclass_ Federal-gov                     0.004772\n",
       " education level_highschool                 0.004763\n",
       " race_ Black                                0.004746\n",
       " workclass_ State-gov                       0.004051\n",
       " marital-status_ Divorced                   0.003984\n",
       " race_ Asian-Pac-Islander                   0.003883\n",
       " occupation_ Other-service                  0.003704\n",
       " occupation_ Protective-serv                0.003701\n",
       " occupation_ Farming-fishing                0.003533\n",
       " sex_ Male                                  0.003449\n",
       " education level_college                    0.003331\n",
       " occupation_ Handlers-cleaners              0.003164\n",
       " relationship_ Not-in-family                0.002653\n",
       " sex_ Female                                0.002266\n",
       " marital-status_ Never-married              0.002143\n",
       " occupation_ ?                              0.002087\n",
       " education level_graduate                   0.001919\n",
       " relationship_ Husband                      0.001871\n",
       " relationship_ Unmarried                    0.001692\n",
       " marital-status_ Widowed                    0.000998\n",
       " relationship_ Own-child                    0.000964\n",
       " race_ Amer-Indian-Eskimo                   0.000717\n",
       " relationship_ Other-relative               0.000695\n",
       " marital-status_ Married-spouse-absent      0.000646\n",
       " race_ Other                                0.000474\n",
       " workclass_ ?                               0.000469\n",
       " education level_pre highschool             0.000320\n",
       " marital-status_ Married-AF-spouse          0.000292\n",
       " marital-status_ Separated                  0.000180\n",
       " workclass_ Without-pay                     0.000000\n",
       " workclass_ Never-worked                    0.000000\n",
       " occupation_ Priv-house-serv                0.000000\n",
       " occupation_ Armed-Forces                   0.000000"
      ]
     },
     "execution_count": 61,
     "metadata": {},
     "output_type": "execute_result"
    }
   ],
   "source": [
    "pd.DataFrame((DTmodel.feature_importances_).reshape(-1,1), index=x_test2.columns, columns=['Coefficients']).sort_values('Coefficients', ascending=False)\n"
   ]
  },
  {
   "cell_type": "markdown",
   "id": "continent-princess",
   "metadata": {},
   "source": [
    "Decision Tree hyperparameter analysis:\n",
    "1. criterion: The function to measure the quality of a split. Supported criteria are “gini” for the Gini impurity and “entropy” for the information gain. Entropy tends to choose the features with more possible values, but since we only have binary features after one-hot encoding, it's worth to test.\n",
    "2. splitter; The strategy used to choose the split at each node. Supported strategies are “best” to choose the best split and “random” to choose the best random split. The default is \"best\" and we can test with \"random\".\n",
    "3. max_depth: The maximum depth of the tree. If None, then nodes are expanded until all leaves are pure or until all leaves contain less than min_samples_split samples. Actually our training data doesn't strong capability of generalization, so the no depth of the tree will lead to overfitting. A specificed maximum depth of the tree possibly imporve the performance.\n",
    "4. min_impurity_split: Threshold for early stopping in tree growth. A node will split if its impurity is above the threshold, otherwise it is a leaf. This setting is also purposed to avoid overfitting. "
   ]
  },
  {
   "cell_type": "code",
   "execution_count": 62,
   "id": "chinese-conflict",
   "metadata": {},
   "outputs": [
    {
     "data": {
      "text/plain": [
       "DecisionTreeClassifier(criterion='entropy', random_state=121)"
      ]
     },
     "execution_count": 62,
     "metadata": {},
     "output_type": "execute_result"
    }
   ],
   "source": [
    "DTmodel = DecisionTreeClassifier(random_state=121, criterion='entropy')\n",
    "DTmodel.fit(x_train2, y_train)"
   ]
  },
  {
   "cell_type": "code",
   "execution_count": 63,
   "id": "floating-assault",
   "metadata": {},
   "outputs": [
    {
     "name": "stdout",
     "output_type": "stream",
     "text": [
      "Accuracy: 0.8126765753592925\n",
      "Classification report:\n",
      "               precision    recall  f1-score   support\n",
      "\n",
      "       <=50K       0.88      0.88      0.88      6205\n",
      "        >50K       0.60      0.61      0.61      1936\n",
      "\n",
      "    accuracy                           0.81      8141\n",
      "   macro avg       0.74      0.74      0.74      8141\n",
      "weighted avg       0.81      0.81      0.81      8141\n",
      "\n",
      "Confusion Matrix:\n",
      " [[5430  775]\n",
      " [ 750 1186]]\n"
     ]
    }
   ],
   "source": [
    "y_predicted_dt = DTmodel.predict(x_test2)\n",
    "result(y_test, y_predicted_dt)"
   ]
  },
  {
   "cell_type": "code",
   "execution_count": 64,
   "id": "incredible-fossil",
   "metadata": {},
   "outputs": [
    {
     "data": {
      "text/plain": [
       "DecisionTreeClassifier(criterion='entropy', max_depth=7, random_state=121)"
      ]
     },
     "execution_count": 64,
     "metadata": {},
     "output_type": "execute_result"
    }
   ],
   "source": [
    "DTmodel = DecisionTreeClassifier(random_state=121, criterion='entropy', max_depth=7)\n",
    "DTmodel.fit(x_train2, y_train)"
   ]
  },
  {
   "cell_type": "code",
   "execution_count": 65,
   "id": "relative-inflation",
   "metadata": {},
   "outputs": [
    {
     "name": "stdout",
     "output_type": "stream",
     "text": [
      "Accuracy: 0.853212136101216\n",
      "Classification report:\n",
      "               precision    recall  f1-score   support\n",
      "\n",
      "       <=50K       0.86      0.96      0.91      6205\n",
      "        >50K       0.79      0.52      0.63      1936\n",
      "\n",
      "    accuracy                           0.85      8141\n",
      "   macro avg       0.83      0.74      0.77      8141\n",
      "weighted avg       0.85      0.85      0.84      8141\n",
      "\n",
      "Confusion Matrix:\n",
      " [[5946  259]\n",
      " [ 936 1000]]\n"
     ]
    }
   ],
   "source": [
    "y_predicted_dt = DTmodel.predict(x_test2)\n",
    "result(y_test, y_predicted_dt)"
   ]
  },
  {
   "cell_type": "code",
   "execution_count": 66,
   "id": "higher-liberty",
   "metadata": {},
   "outputs": [
    {
     "name": "stderr",
     "output_type": "stream",
     "text": [
      "C:\\Users\\zyang672\\AppData\\Local\\Continuum\\anaconda2\\envs\\newpython3\\lib\\site-packages\\sklearn\\tree\\_classes.py:320: FutureWarning: The min_impurity_split parameter is deprecated. Its default value has changed from 1e-7 to 0 in version 0.23, and it will be removed in 1.0 (renaming of 0.25). Use the min_impurity_decrease parameter instead.\n",
      "  FutureWarning\n"
     ]
    },
    {
     "data": {
      "text/plain": [
       "DecisionTreeClassifier(criterion='entropy', max_depth=7,\n",
       "                       min_impurity_split=0.07, random_state=121)"
      ]
     },
     "execution_count": 66,
     "metadata": {},
     "output_type": "execute_result"
    }
   ],
   "source": [
    "DTmodel = DecisionTreeClassifier(random_state=121, criterion='entropy', max_depth=7, min_impurity_split=0.07)\n",
    "DTmodel.fit(x_train2, y_train)"
   ]
  },
  {
   "cell_type": "code",
   "execution_count": 67,
   "id": "returning-fever",
   "metadata": {},
   "outputs": [
    {
     "name": "stdout",
     "output_type": "stream",
     "text": [
      "Accuracy: 0.8533349711337673\n",
      "Classification report:\n",
      "               precision    recall  f1-score   support\n",
      "\n",
      "       <=50K       0.86      0.96      0.91      6205\n",
      "        >50K       0.79      0.52      0.63      1936\n",
      "\n",
      "    accuracy                           0.85      8141\n",
      "   macro avg       0.83      0.74      0.77      8141\n",
      "weighted avg       0.85      0.85      0.84      8141\n",
      "\n",
      "Confusion Matrix:\n",
      " [[5946  259]\n",
      " [ 935 1001]]\n"
     ]
    }
   ],
   "source": [
    "y_predicted_dt = DTmodel.predict(x_test2)\n",
    "result(y_test, y_predicted_dt)"
   ]
  },
  {
   "cell_type": "markdown",
   "id": "accepted-brooks",
   "metadata": {},
   "source": [
    "### Initial model summary\n",
    "\n",
    "From the inital prediction performance for these 4 primary classifers we can see:\n",
    "1. Generally the classification accuracy is low. The highest accuracy is 0.85 and obtained by SVM. Compared with the default classier, which consider all sample belongs to the majority and accuracy is 0.76, the performance is low and need model fine tune.\n",
    "2. From the confusion matrix we can see, all primary classifier failed to generalize the feature of minority. Both type 1 and type 2 error numbers are high. This means all initial model didn't understand the minortiy very well. \n",
    "\n",
    "After the hyperparameter adjustment for each model we can see:\n",
    "1. the highest accuray is 0.8533 and obtained by Decision Tree. \n",
    "2. Among all models we can found the non-linear models like Decision Tree and SVM have better performance than the linear and naive models.\n",
    "3. The training data has weak capability of generalization with given features. Therefore, regularization is needed to avoid overfitting"
   ]
  },
  {
   "cell_type": "markdown",
   "id": "musical-insert",
   "metadata": {},
   "source": [
    "### random forest"
   ]
  },
  {
   "cell_type": "code",
   "execution_count": 68,
   "id": "valid-internet",
   "metadata": {},
   "outputs": [
    {
     "data": {
      "text/plain": [
       "RandomForestClassifier(n_estimators=200, oob_score=True)"
      ]
     },
     "execution_count": 68,
     "metadata": {},
     "output_type": "execute_result"
    }
   ],
   "source": [
    "from sklearn.ensemble import RandomForestClassifier\n",
    "RFmodel = RandomForestClassifier(n_estimators=200, oob_score=True)\n",
    "RFmodel.fit(x_train2, y_train)"
   ]
  },
  {
   "cell_type": "code",
   "execution_count": 69,
   "id": "forced-football",
   "metadata": {},
   "outputs": [
    {
     "name": "stdout",
     "output_type": "stream",
     "text": [
      "Accuracy: 0.8507554354501904\n",
      "Classification report:\n",
      "               precision    recall  f1-score   support\n",
      "\n",
      "       <=50K       0.88      0.93      0.90      6205\n",
      "        >50K       0.73      0.60      0.65      1936\n",
      "\n",
      "    accuracy                           0.85      8141\n",
      "   macro avg       0.80      0.76      0.78      8141\n",
      "weighted avg       0.84      0.85      0.85      8141\n",
      "\n",
      "Confusion Matrix:\n",
      " [[5773  432]\n",
      " [ 783 1153]]\n"
     ]
    }
   ],
   "source": [
    "y_predicted_rf = RFmodel.predict(x_test2)\n",
    "result(y_test, y_predicted_rf)"
   ]
  },
  {
   "cell_type": "code",
   "execution_count": 70,
   "id": "automatic-ambassador",
   "metadata": {},
   "outputs": [
    {
     "data": {
      "text/plain": [
       "{'base_estimator': DecisionTreeClassifier(),\n",
       " 'n_estimators': 200,\n",
       " 'estimator_params': ('criterion',\n",
       "  'max_depth',\n",
       "  'min_samples_split',\n",
       "  'min_samples_leaf',\n",
       "  'min_weight_fraction_leaf',\n",
       "  'max_features',\n",
       "  'max_leaf_nodes',\n",
       "  'min_impurity_decrease',\n",
       "  'min_impurity_split',\n",
       "  'random_state',\n",
       "  'ccp_alpha'),\n",
       " 'bootstrap': True,\n",
       " 'oob_score': True,\n",
       " 'n_jobs': None,\n",
       " 'random_state': None,\n",
       " 'verbose': 0,\n",
       " 'warm_start': False,\n",
       " 'class_weight': None,\n",
       " 'max_samples': None,\n",
       " 'criterion': 'gini',\n",
       " 'max_depth': None,\n",
       " 'min_samples_split': 2,\n",
       " 'min_samples_leaf': 1,\n",
       " 'min_weight_fraction_leaf': 0.0,\n",
       " 'max_features': 'auto',\n",
       " 'max_leaf_nodes': None,\n",
       " 'min_impurity_decrease': 0.0,\n",
       " 'min_impurity_split': None,\n",
       " 'ccp_alpha': 0.0,\n",
       " 'n_features_in_': 54,\n",
       " 'n_features_': 54,\n",
       " 'n_outputs_': 1,\n",
       " 'classes_': array([' <=50K', ' >50K'], dtype=object),\n",
       " 'n_classes_': 2,\n",
       " 'base_estimator_': DecisionTreeClassifier(),\n",
       " 'estimators_': [DecisionTreeClassifier(max_features='auto', random_state=118065202),\n",
       "  DecisionTreeClassifier(max_features='auto', random_state=2127437375),\n",
       "  DecisionTreeClassifier(max_features='auto', random_state=113938906),\n",
       "  DecisionTreeClassifier(max_features='auto', random_state=337207986),\n",
       "  DecisionTreeClassifier(max_features='auto', random_state=277069241),\n",
       "  DecisionTreeClassifier(max_features='auto', random_state=2036501791),\n",
       "  DecisionTreeClassifier(max_features='auto', random_state=925657392),\n",
       "  DecisionTreeClassifier(max_features='auto', random_state=127799380),\n",
       "  DecisionTreeClassifier(max_features='auto', random_state=2144739069),\n",
       "  DecisionTreeClassifier(max_features='auto', random_state=836224348),\n",
       "  DecisionTreeClassifier(max_features='auto', random_state=1017903220),\n",
       "  DecisionTreeClassifier(max_features='auto', random_state=1149220180),\n",
       "  DecisionTreeClassifier(max_features='auto', random_state=1642721246),\n",
       "  DecisionTreeClassifier(max_features='auto', random_state=172855924),\n",
       "  DecisionTreeClassifier(max_features='auto', random_state=1120409414),\n",
       "  DecisionTreeClassifier(max_features='auto', random_state=2006165792),\n",
       "  DecisionTreeClassifier(max_features='auto', random_state=467935238),\n",
       "  DecisionTreeClassifier(max_features='auto', random_state=1632453098),\n",
       "  DecisionTreeClassifier(max_features='auto', random_state=1928549312),\n",
       "  DecisionTreeClassifier(max_features='auto', random_state=1049508724),\n",
       "  DecisionTreeClassifier(max_features='auto', random_state=2024132055),\n",
       "  DecisionTreeClassifier(max_features='auto', random_state=848211976),\n",
       "  DecisionTreeClassifier(max_features='auto', random_state=179982330),\n",
       "  DecisionTreeClassifier(max_features='auto', random_state=1182459187),\n",
       "  DecisionTreeClassifier(max_features='auto', random_state=1774847385),\n",
       "  DecisionTreeClassifier(max_features='auto', random_state=806088418),\n",
       "  DecisionTreeClassifier(max_features='auto', random_state=1468636967),\n",
       "  DecisionTreeClassifier(max_features='auto', random_state=1088872357),\n",
       "  DecisionTreeClassifier(max_features='auto', random_state=571802922),\n",
       "  DecisionTreeClassifier(max_features='auto', random_state=1234416206),\n",
       "  DecisionTreeClassifier(max_features='auto', random_state=1278980898),\n",
       "  DecisionTreeClassifier(max_features='auto', random_state=1991180194),\n",
       "  DecisionTreeClassifier(max_features='auto', random_state=565652504),\n",
       "  DecisionTreeClassifier(max_features='auto', random_state=1336260863),\n",
       "  DecisionTreeClassifier(max_features='auto', random_state=1568768253),\n",
       "  DecisionTreeClassifier(max_features='auto', random_state=1813136246),\n",
       "  DecisionTreeClassifier(max_features='auto', random_state=137092452),\n",
       "  DecisionTreeClassifier(max_features='auto', random_state=643646668),\n",
       "  DecisionTreeClassifier(max_features='auto', random_state=1793734663),\n",
       "  DecisionTreeClassifier(max_features='auto', random_state=432552717),\n",
       "  DecisionTreeClassifier(max_features='auto', random_state=777065973),\n",
       "  DecisionTreeClassifier(max_features='auto', random_state=1689003536),\n",
       "  DecisionTreeClassifier(max_features='auto', random_state=157494982),\n",
       "  DecisionTreeClassifier(max_features='auto', random_state=2037179755),\n",
       "  DecisionTreeClassifier(max_features='auto', random_state=1271273336),\n",
       "  DecisionTreeClassifier(max_features='auto', random_state=563018599),\n",
       "  DecisionTreeClassifier(max_features='auto', random_state=1472413123),\n",
       "  DecisionTreeClassifier(max_features='auto', random_state=21682823),\n",
       "  DecisionTreeClassifier(max_features='auto', random_state=474482481),\n",
       "  DecisionTreeClassifier(max_features='auto', random_state=1730110378),\n",
       "  DecisionTreeClassifier(max_features='auto', random_state=1593429853),\n",
       "  DecisionTreeClassifier(max_features='auto', random_state=442155999),\n",
       "  DecisionTreeClassifier(max_features='auto', random_state=1994756604),\n",
       "  DecisionTreeClassifier(max_features='auto', random_state=633913766),\n",
       "  DecisionTreeClassifier(max_features='auto', random_state=1888194563),\n",
       "  DecisionTreeClassifier(max_features='auto', random_state=165991580),\n",
       "  DecisionTreeClassifier(max_features='auto', random_state=318650145),\n",
       "  DecisionTreeClassifier(max_features='auto', random_state=1774860807),\n",
       "  DecisionTreeClassifier(max_features='auto', random_state=24867431),\n",
       "  DecisionTreeClassifier(max_features='auto', random_state=1072549577),\n",
       "  DecisionTreeClassifier(max_features='auto', random_state=1088001202),\n",
       "  DecisionTreeClassifier(max_features='auto', random_state=1866188821),\n",
       "  DecisionTreeClassifier(max_features='auto', random_state=1073929182),\n",
       "  DecisionTreeClassifier(max_features='auto', random_state=1747957499),\n",
       "  DecisionTreeClassifier(max_features='auto', random_state=1547929839),\n",
       "  DecisionTreeClassifier(max_features='auto', random_state=1570651872),\n",
       "  DecisionTreeClassifier(max_features='auto', random_state=2007048571),\n",
       "  DecisionTreeClassifier(max_features='auto', random_state=1560438036),\n",
       "  DecisionTreeClassifier(max_features='auto', random_state=76747143),\n",
       "  DecisionTreeClassifier(max_features='auto', random_state=1315124475),\n",
       "  DecisionTreeClassifier(max_features='auto', random_state=543656407),\n",
       "  DecisionTreeClassifier(max_features='auto', random_state=1845727982),\n",
       "  DecisionTreeClassifier(max_features='auto', random_state=738232719),\n",
       "  DecisionTreeClassifier(max_features='auto', random_state=680712904),\n",
       "  DecisionTreeClassifier(max_features='auto', random_state=656389857),\n",
       "  DecisionTreeClassifier(max_features='auto', random_state=1079346424),\n",
       "  DecisionTreeClassifier(max_features='auto', random_state=697955422),\n",
       "  DecisionTreeClassifier(max_features='auto', random_state=1956882854),\n",
       "  DecisionTreeClassifier(max_features='auto', random_state=509587952),\n",
       "  DecisionTreeClassifier(max_features='auto', random_state=328908537),\n",
       "  DecisionTreeClassifier(max_features='auto', random_state=433453497),\n",
       "  DecisionTreeClassifier(max_features='auto', random_state=312573544),\n",
       "  DecisionTreeClassifier(max_features='auto', random_state=1518936147),\n",
       "  DecisionTreeClassifier(max_features='auto', random_state=409923049),\n",
       "  DecisionTreeClassifier(max_features='auto', random_state=867958300),\n",
       "  DecisionTreeClassifier(max_features='auto', random_state=1962424217),\n",
       "  DecisionTreeClassifier(max_features='auto', random_state=730797953),\n",
       "  DecisionTreeClassifier(max_features='auto', random_state=1675831202),\n",
       "  DecisionTreeClassifier(max_features='auto', random_state=958374626),\n",
       "  DecisionTreeClassifier(max_features='auto', random_state=361603221),\n",
       "  DecisionTreeClassifier(max_features='auto', random_state=1668346967),\n",
       "  DecisionTreeClassifier(max_features='auto', random_state=1785346777),\n",
       "  DecisionTreeClassifier(max_features='auto', random_state=789154513),\n",
       "  DecisionTreeClassifier(max_features='auto', random_state=1290883633),\n",
       "  DecisionTreeClassifier(max_features='auto', random_state=1533132074),\n",
       "  DecisionTreeClassifier(max_features='auto', random_state=2041230352),\n",
       "  DecisionTreeClassifier(max_features='auto', random_state=1410922933),\n",
       "  DecisionTreeClassifier(max_features='auto', random_state=621365868),\n",
       "  DecisionTreeClassifier(max_features='auto', random_state=520877826),\n",
       "  DecisionTreeClassifier(max_features='auto', random_state=1564886362),\n",
       "  DecisionTreeClassifier(max_features='auto', random_state=366218127),\n",
       "  DecisionTreeClassifier(max_features='auto', random_state=888170390),\n",
       "  DecisionTreeClassifier(max_features='auto', random_state=258881579),\n",
       "  DecisionTreeClassifier(max_features='auto', random_state=50052650),\n",
       "  DecisionTreeClassifier(max_features='auto', random_state=377811371),\n",
       "  DecisionTreeClassifier(max_features='auto', random_state=1091082793),\n",
       "  DecisionTreeClassifier(max_features='auto', random_state=498825884),\n",
       "  DecisionTreeClassifier(max_features='auto', random_state=1430371430),\n",
       "  DecisionTreeClassifier(max_features='auto', random_state=1915370728),\n",
       "  DecisionTreeClassifier(max_features='auto', random_state=521044797),\n",
       "  DecisionTreeClassifier(max_features='auto', random_state=275549838),\n",
       "  DecisionTreeClassifier(max_features='auto', random_state=244474751),\n",
       "  DecisionTreeClassifier(max_features='auto', random_state=1709692233),\n",
       "  DecisionTreeClassifier(max_features='auto', random_state=820376617),\n",
       "  DecisionTreeClassifier(max_features='auto', random_state=309933690),\n",
       "  DecisionTreeClassifier(max_features='auto', random_state=1378520370),\n",
       "  DecisionTreeClassifier(max_features='auto', random_state=1754496156),\n",
       "  DecisionTreeClassifier(max_features='auto', random_state=1837415412),\n",
       "  DecisionTreeClassifier(max_features='auto', random_state=1963647721),\n",
       "  DecisionTreeClassifier(max_features='auto', random_state=947107957),\n",
       "  DecisionTreeClassifier(max_features='auto', random_state=1891847049),\n",
       "  DecisionTreeClassifier(max_features='auto', random_state=563340157),\n",
       "  DecisionTreeClassifier(max_features='auto', random_state=1327022419),\n",
       "  DecisionTreeClassifier(max_features='auto', random_state=1771803822),\n",
       "  DecisionTreeClassifier(max_features='auto', random_state=621853613),\n",
       "  DecisionTreeClassifier(max_features='auto', random_state=233482693),\n",
       "  DecisionTreeClassifier(max_features='auto', random_state=608695252),\n",
       "  DecisionTreeClassifier(max_features='auto', random_state=643568207),\n",
       "  DecisionTreeClassifier(max_features='auto', random_state=958342556),\n",
       "  DecisionTreeClassifier(max_features='auto', random_state=756184635),\n",
       "  DecisionTreeClassifier(max_features='auto', random_state=1556183313),\n",
       "  DecisionTreeClassifier(max_features='auto', random_state=807001557),\n",
       "  DecisionTreeClassifier(max_features='auto', random_state=617766503),\n",
       "  DecisionTreeClassifier(max_features='auto', random_state=948302862),\n",
       "  DecisionTreeClassifier(max_features='auto', random_state=1600728478),\n",
       "  DecisionTreeClassifier(max_features='auto', random_state=1141456363),\n",
       "  DecisionTreeClassifier(max_features='auto', random_state=702230923),\n",
       "  DecisionTreeClassifier(max_features='auto', random_state=1956473738),\n",
       "  DecisionTreeClassifier(max_features='auto', random_state=2143040302),\n",
       "  DecisionTreeClassifier(max_features='auto', random_state=275502895),\n",
       "  DecisionTreeClassifier(max_features='auto', random_state=1656598297),\n",
       "  DecisionTreeClassifier(max_features='auto', random_state=1515001687),\n",
       "  DecisionTreeClassifier(max_features='auto', random_state=522718717),\n",
       "  DecisionTreeClassifier(max_features='auto', random_state=581921049),\n",
       "  DecisionTreeClassifier(max_features='auto', random_state=1474419622),\n",
       "  DecisionTreeClassifier(max_features='auto', random_state=39346722),\n",
       "  DecisionTreeClassifier(max_features='auto', random_state=840205886),\n",
       "  DecisionTreeClassifier(max_features='auto', random_state=1605103075),\n",
       "  DecisionTreeClassifier(max_features='auto', random_state=1400713862),\n",
       "  DecisionTreeClassifier(max_features='auto', random_state=1285335598),\n",
       "  DecisionTreeClassifier(max_features='auto', random_state=1593150943),\n",
       "  DecisionTreeClassifier(max_features='auto', random_state=362895208),\n",
       "  DecisionTreeClassifier(max_features='auto', random_state=811520296),\n",
       "  DecisionTreeClassifier(max_features='auto', random_state=1057333329),\n",
       "  DecisionTreeClassifier(max_features='auto', random_state=1144604203),\n",
       "  DecisionTreeClassifier(max_features='auto', random_state=1632816315),\n",
       "  DecisionTreeClassifier(max_features='auto', random_state=1728195294),\n",
       "  DecisionTreeClassifier(max_features='auto', random_state=239976673),\n",
       "  DecisionTreeClassifier(max_features='auto', random_state=884490674),\n",
       "  DecisionTreeClassifier(max_features='auto', random_state=1597250173),\n",
       "  DecisionTreeClassifier(max_features='auto', random_state=1642017590),\n",
       "  DecisionTreeClassifier(max_features='auto', random_state=1395260806),\n",
       "  DecisionTreeClassifier(max_features='auto', random_state=321698381),\n",
       "  DecisionTreeClassifier(max_features='auto', random_state=525089363),\n",
       "  DecisionTreeClassifier(max_features='auto', random_state=1403364095),\n",
       "  DecisionTreeClassifier(max_features='auto', random_state=1650012520),\n",
       "  DecisionTreeClassifier(max_features='auto', random_state=1373686885),\n",
       "  DecisionTreeClassifier(max_features='auto', random_state=547492221),\n",
       "  DecisionTreeClassifier(max_features='auto', random_state=387697702),\n",
       "  DecisionTreeClassifier(max_features='auto', random_state=106971584),\n",
       "  DecisionTreeClassifier(max_features='auto', random_state=1469579862),\n",
       "  DecisionTreeClassifier(max_features='auto', random_state=1049727791),\n",
       "  DecisionTreeClassifier(max_features='auto', random_state=244104408),\n",
       "  DecisionTreeClassifier(max_features='auto', random_state=445852814),\n",
       "  DecisionTreeClassifier(max_features='auto', random_state=1639286999),\n",
       "  DecisionTreeClassifier(max_features='auto', random_state=1152705048),\n",
       "  DecisionTreeClassifier(max_features='auto', random_state=75512138),\n",
       "  DecisionTreeClassifier(max_features='auto', random_state=1478890996),\n",
       "  DecisionTreeClassifier(max_features='auto', random_state=920658629),\n",
       "  DecisionTreeClassifier(max_features='auto', random_state=1909926630),\n",
       "  DecisionTreeClassifier(max_features='auto', random_state=30475885),\n",
       "  DecisionTreeClassifier(max_features='auto', random_state=1037509991),\n",
       "  DecisionTreeClassifier(max_features='auto', random_state=1803044282),\n",
       "  DecisionTreeClassifier(max_features='auto', random_state=813694949),\n",
       "  DecisionTreeClassifier(max_features='auto', random_state=1333157403),\n",
       "  DecisionTreeClassifier(max_features='auto', random_state=1408460360),\n",
       "  DecisionTreeClassifier(max_features='auto', random_state=1772463541),\n",
       "  DecisionTreeClassifier(max_features='auto', random_state=1411312831),\n",
       "  DecisionTreeClassifier(max_features='auto', random_state=1035988423),\n",
       "  DecisionTreeClassifier(max_features='auto', random_state=1643264657),\n",
       "  DecisionTreeClassifier(max_features='auto', random_state=1640040731),\n",
       "  DecisionTreeClassifier(max_features='auto', random_state=1178741268),\n",
       "  DecisionTreeClassifier(max_features='auto', random_state=445263499),\n",
       "  DecisionTreeClassifier(max_features='auto', random_state=1561186526),\n",
       "  DecisionTreeClassifier(max_features='auto', random_state=1391705579),\n",
       "  DecisionTreeClassifier(max_features='auto', random_state=1388191008),\n",
       "  DecisionTreeClassifier(max_features='auto', random_state=1250964958),\n",
       "  DecisionTreeClassifier(max_features='auto', random_state=1303695579),\n",
       "  DecisionTreeClassifier(max_features='auto', random_state=543868729),\n",
       "  DecisionTreeClassifier(max_features='auto', random_state=1991875149)],\n",
       " 'oob_decision_function_': array([[0.76829268, 0.23170732],\n",
       "        [0.98571429, 0.01428571],\n",
       "        [0.98734177, 0.01265823],\n",
       "        ...,\n",
       "        [1.        , 0.        ],\n",
       "        [1.        , 0.        ],\n",
       "        [1.        , 0.        ]]),\n",
       " 'oob_score_': 0.8592956592956593}"
      ]
     },
     "execution_count": 70,
     "metadata": {},
     "output_type": "execute_result"
    }
   ],
   "source": [
    "RFmodel.__dict__"
   ]
  },
  {
   "cell_type": "code",
   "execution_count": 73,
   "id": "nervous-grass",
   "metadata": {},
   "outputs": [
    {
     "data": {
      "text/plain": [
       "0.8592956592956593"
      ]
     },
     "execution_count": 73,
     "metadata": {},
     "output_type": "execute_result"
    }
   ],
   "source": [
    "RFmodel.oob_score_"
   ]
  },
  {
   "cell_type": "markdown",
   "id": "described-drill",
   "metadata": {},
   "source": [
    "Random Forest Hyperparameters analysis:\n",
    "1. n_estimators: The number of trees in the forest. The increase of number of trees helps to bring in more diveristy. Generally, if number of trees is too small, the model is tend to underfitting.\n",
    "2. n_features: the number of features a desicion tree can use when spilt node. default value is square root of the total feature number N. \n",
    "3. max_depth: The maximum depth of the tree. If the data volume is large enough, we can set the maximum depth to save computing burden. \n",
    "4. min_samples_split: The minimum number of samples required to split an internal node. Another way to limit overfitting.\n",
    "5. criterion: like desicion tree, Supported criteria are “gini” for the Gini impurity and “entropy” for the information gain.\n",
    "6. min_impurity_split: Threshold for early stopping in tree growth.\n",
    "\n"
   ]
  },
  {
   "cell_type": "code",
   "execution_count": 74,
   "id": "wireless-paraguay",
   "metadata": {},
   "outputs": [
    {
     "name": "stdout",
     "output_type": "stream",
     "text": [
      "{'criterion': 'entropy', 'min_samples_split': 14, 'n_estimators': 400}\n",
      "out of bag accuracy:0.864455\n",
      "Accuracy: 0.8603365679891906\n",
      "Classification report:\n",
      "               precision    recall  f1-score   support\n",
      "\n",
      "       <=50K       0.88      0.94      0.91      6205\n",
      "        >50K       0.76      0.61      0.67      1936\n",
      "\n",
      "    accuracy                           0.86      8141\n",
      "   macro avg       0.82      0.77      0.79      8141\n",
      "weighted avg       0.85      0.86      0.85      8141\n",
      "\n",
      "Confusion Matrix:\n",
      " [[5831  374]\n",
      " [ 763 1173]]\n"
     ]
    }
   ],
   "source": [
    "# use grid search to adjust hyperparameter n_estimators \n",
    "from sklearn.model_selection import GridSearchCV\n",
    "RF_param = { \"n_estimators\":[100,200, 300, 400],\n",
    "            \"criterion\":[\"gini\", \"entropy\"],\n",
    "            \"min_samples_split\": [2, 6, 10, 14]}\n",
    "#RF_param = { \"n_features\":[\"auto\",\"log2\"]}\n",
    "gsearch1 = GridSearchCV(estimator=RandomForestClassifier(random_state=101, oob_score=True),param_grid=RF_param,\n",
    "                        scoring='roc_auc',cv=10)\n",
    "gsearch1.fit(x_train2, y_train)\n",
    "print(gsearch1.best_params_)\n",
    "model = gsearch1.best_estimator_.fit(x_train2, y_train)\n",
    "print(\"out of bag accuracy:%f\"%model.oob_score_)\n",
    "y_predicted_rf = model.predict(x_test2)\n",
    "result(y_test, y_predicted_rf)"
   ]
  },
  {
   "cell_type": "markdown",
   "id": "satisfied-junior",
   "metadata": {},
   "source": [
    "Random Forest Summary:\n",
    "1. the best accuracy reached when \n",
    "2. one of the drawbacks of Random Forest is that, when the noise is large on the dataset, the model easily results in overfitting "
   ]
  },
  {
   "cell_type": "markdown",
   "id": "rational-fundamental",
   "metadata": {},
   "source": [
    "### AdaBoosting"
   ]
  },
  {
   "cell_type": "code",
   "execution_count": 75,
   "id": "entertaining-newton",
   "metadata": {},
   "outputs": [
    {
     "data": {
      "text/plain": [
       "AdaBoostClassifier(n_estimators=200)"
      ]
     },
     "execution_count": 75,
     "metadata": {},
     "output_type": "execute_result"
    }
   ],
   "source": [
    "from sklearn.ensemble import AdaBoostClassifier\n",
    "ABmodel = AdaBoostClassifier(n_estimators=200)\n",
    "ABmodel.fit(x_train2, y_train)"
   ]
  },
  {
   "cell_type": "code",
   "execution_count": 76,
   "id": "through-breath",
   "metadata": {},
   "outputs": [
    {
     "name": "stdout",
     "output_type": "stream",
     "text": [
      "Accuracy: 0.8695491954305368\n",
      "Classification report:\n",
      "               precision    recall  f1-score   support\n",
      "\n",
      "       <=50K       0.89      0.94      0.92      6205\n",
      "        >50K       0.78      0.63      0.70      1936\n",
      "\n",
      "    accuracy                           0.87      8141\n",
      "   macro avg       0.83      0.79      0.81      8141\n",
      "weighted avg       0.86      0.87      0.86      8141\n",
      "\n",
      "Confusion Matrix:\n",
      " [[5858  347]\n",
      " [ 715 1221]]\n"
     ]
    }
   ],
   "source": [
    "y_predicted_rf = ABmodel.predict(x_test2)\n",
    "result(y_test, y_predicted_rf)"
   ]
  },
  {
   "cell_type": "markdown",
   "id": "necessary-terrace",
   "metadata": {},
   "source": [
    "AdaBoosting Hyperparameters analysis:\n",
    "1. base_estimator: default=None, If None, then the base estimator is DecisionTreeClassifier initialized with max_depth=1.\n",
    "2. n_estimators: The maximum number of base classifier at which boosting is terminated.\n",
    "3. learning_rate: default=1, Weight applied to each classifier at each boosting iteration. A higher learning rate increases the contribution of each classifier. There is a trade-off between the learning_rate and n_estimators parameters.\n",
    "4. algorithm: {‘SAMME’, ‘SAMME.R’}"
   ]
  },
  {
   "cell_type": "code",
   "execution_count": 79,
   "id": "commercial-coffee",
   "metadata": {},
   "outputs": [
    {
     "name": "stdout",
     "output_type": "stream",
     "text": [
      "{'algorithm': 'SAMME.R', 'learning_rate': 1.25, 'n_estimators': 500}\n",
      "Accuracy: 0.8715145559513573\n",
      "Classification report:\n",
      "               precision    recall  f1-score   support\n",
      "\n",
      "       <=50K       0.89      0.94      0.92      6205\n",
      "        >50K       0.78      0.64      0.70      1936\n",
      "\n",
      "    accuracy                           0.87      8141\n",
      "   macro avg       0.84      0.79      0.81      8141\n",
      "weighted avg       0.87      0.87      0.87      8141\n",
      "\n",
      "Confusion Matrix:\n",
      " [[5855  350]\n",
      " [ 696 1240]]\n"
     ]
    }
   ],
   "source": [
    "from sklearn.model_selection import GridSearchCV\n",
    "AB_param = { \"n_estimators\":[300, 400, 500],\n",
    "            \"learning_rate\":[1, 1.25, 1.5],\n",
    "            \"algorithm\": ['SAMME', 'SAMME.R']}\n",
    "#RF_param = { \"n_features\":[\"auto\",\"log2\"]}\n",
    "gsearch1 = GridSearchCV(estimator=AdaBoostClassifier(random_state=101),param_grid=AB_param,\n",
    "                        scoring='roc_auc',cv=10)\n",
    "gsearch1.fit(x_train2, y_train)\n",
    "print(gsearch1.best_params_)\n",
    "model = gsearch1.best_estimator_.fit(x_train2, y_train)\n",
    "#print(\"estimator error:%f\"%model.estimator_errors_)\n",
    "y_predicted_rf = model.predict(x_test2)\n",
    "result(y_test, y_predicted_rf)"
   ]
  },
  {
   "cell_type": "code",
   "execution_count": null,
   "id": "removed-registration",
   "metadata": {},
   "outputs": [],
   "source": []
  }
 ],
 "metadata": {
  "kernelspec": {
   "display_name": "Python 3",
   "language": "python",
   "name": "python3"
  },
  "language_info": {
   "codemirror_mode": {
    "name": "ipython",
    "version": 3
   },
   "file_extension": ".py",
   "mimetype": "text/x-python",
   "name": "python",
   "nbconvert_exporter": "python",
   "pygments_lexer": "ipython3",
   "version": "3.7.10"
  }
 },
 "nbformat": 4,
 "nbformat_minor": 5
}
